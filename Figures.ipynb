{
 "metadata": {
  "name": ""
 },
 "nbformat": 3,
 "nbformat_minor": 0,
 "worksheets": [
  {
   "cells": [
    {
     "cell_type": "code",
     "collapsed": false,
     "input": [
      "%matplotlib inline"
     ],
     "language": "python",
     "metadata": {},
     "outputs": [],
     "prompt_number": 1
    },
    {
     "cell_type": "code",
     "collapsed": false,
     "input": [
      "import matplotlib.pyplot as plt\n",
      "import numpy as np\n",
      "import plotsettings"
     ],
     "language": "python",
     "metadata": {},
     "outputs": [],
     "prompt_number": 2
    },
    {
     "cell_type": "heading",
     "level": 3,
     "metadata": {},
     "source": [
      "Figure 1c,d,e,f"
     ]
    },
    {
     "cell_type": "heading",
     "level": 4,
     "metadata": {},
     "source": [
      "E. coli MG1655, 1-file barcode pairing"
     ]
    },
    {
     "cell_type": "code",
     "collapsed": false,
     "input": [
      "%cd ../MG1655\n",
      "Ecoli_contiglengths = []\n",
      "numContigs = 0\n",
      "with open(\"contig_lengths\", \"r\") as f:\n",
      "    for line in f:\n",
      "        if float(line) > 1000:\n",
      "            Ecoli_contiglengths.append(float(line))\n",
      "            numContigs += 1\n",
      "print numContigs, \"longer than 1kb\""
     ],
     "language": "python",
     "metadata": {},
     "outputs": [
      {
       "output_type": "stream",
       "stream": "stdout",
       "text": [
        "/Users/jimstapleton/Dropbox/Papers/Sequencing/Github/MG1655\n",
        "2878 longer than 1kb\n"
       ]
      }
     ],
     "prompt_number": 37
    },
    {
     "cell_type": "code",
     "collapsed": false,
     "input": [
      "sumLength = 0\n",
      "for contiglength in Ecoli_contiglengths:\n",
      "    sumLength += contiglength\n",
      "\n",
      "N50sum = 0\n",
      "for contiglength in Ecoli_contiglengths:\n",
      "    N50sum += contiglength\n",
      "    if N50sum/float(sumLength) > 0.5:\n",
      "        print \"N50 is\", contiglength\n",
      "        break"
     ],
     "language": "python",
     "metadata": {},
     "outputs": [
      {
       "output_type": "stream",
       "stream": "stdout",
       "text": [
        "N50 is 5980.0\n"
       ]
      }
     ],
     "prompt_number": 38
    },
    {
     "cell_type": "code",
     "collapsed": false,
     "input": [
      "data = []\n",
      "with open(\"histogram.txt\", \"r\") as f:\n",
      "    for line in f:\n",
      "        data.append(float(line))\n",
      "print \"The complexity is\", len(data)"
     ],
     "language": "python",
     "metadata": {},
     "outputs": [
      {
       "output_type": "stream",
       "stream": "stdout",
       "text": [
        "The complexity is 2792\n"
       ]
      }
     ],
     "prompt_number": 40
    },
    {
     "cell_type": "heading",
     "level": 3,
     "metadata": {},
     "source": [
      "Mismatch rate calculation"
     ]
    },
    {
     "cell_type": "code",
     "collapsed": false,
     "input": [
      "# Parse the cigar and MD fields of the alignment SAM file to calculate percent identity\n",
      "\n",
      "%cd ../MG1655\n",
      "Match = 0\n",
      "Softclip = 0\n",
      "Mismatch = 0\n",
      "Deletion = 0\n",
      "Insertion = 0\n",
      "N = 0\n",
      "Hardclip = 0\n",
      "Padding = 0\n",
      "AC = 0\n",
      "AG = 0\n",
      "AT = 0\n",
      "CA = 0\n",
      "CG = 0\n",
      "CT = 0\n",
      "GA = 0\n",
      "GC = 0\n",
      "GT = 0\n",
      "TA = 0\n",
      "TC = 0\n",
      "TG = 0\n",
      "mismatchPositions = []\n",
      "alignedSequences = 0\n",
      "insertionPositions = []\n",
      "deletionPositions = []\n",
      "insertionRelativePositions = []\n",
      "deletionRelativePositions = []\n",
      "\n",
      "def is_number(s):\n",
      "    '''http://stackoverflow.com/questions/354038/how-do-i-check-if-a-string-is-a-number-in-python'''\n",
      "    try:\n",
      "        int(s)\n",
      "        return True\n",
      "    except ValueError:\n",
      "        return False\n",
      "    \n",
      "def magic(numList):\n",
      "    '''http://stackoverflow.com/questions/489999/python-convert-list-of-ints-to-one-number'''\n",
      "    s = ''.join(map(str, numList))\n",
      "    return int(s)\n",
      "\n",
      "with open('filteredalignMG1655.sam', 'r') as datafile:\n",
      "    for line in datafile:\n",
      "        alignedSequences += 1\n",
      "        fields = line.split()\n",
      "        if fields[0][:4] == 'NODE':\n",
      "            \n",
      "            # parse the cigar field to find number of matches, indels, etc\n",
      "            cigar = fields[5]\n",
      "            buildNum = []\n",
      "            currentPosition = 0 \n",
      "            startSoft = 0\n",
      "            for char in cigar:\n",
      "                if is_number(char):\n",
      "                    buildNum.append(char)\n",
      "                elif char == 'M':\n",
      "                    Match += magic(buildNum)         # this is matches + mismatches = alignment matches\n",
      "                    currentPosition += magic(buildNum)\n",
      "                    buildNum = []\n",
      "                elif char == 'S':\n",
      "                    Softclip += magic(buildNum)\n",
      "                    # keep track of soft clipping at the start of a read\n",
      "                    if currentPosition == 0:\n",
      "                        startSoft = magic(buildNum)\n",
      "                    buildNum = []\n",
      "                elif char == 'N':\n",
      "                    N += magic(buildNum)\n",
      "                    buildNum = []         \n",
      "                elif char == 'H':\n",
      "                    Hardclip += magic(buildNum)\n",
      "                    buildNum = []  \n",
      "                elif char == 'P':\n",
      "                    Padding += magic(buildNum)\n",
      "                    buildNum = [] \n",
      "                elif char == 'D':\n",
      "                    Deletion += magic(buildNum)\n",
      "                    for i in xrange(magic(buildNum)):\n",
      "                        deletionPositions.append(currentPosition)\n",
      "                    buildNum = []  \n",
      "                elif char == 'I':\n",
      "                    Insertion += magic(buildNum)\n",
      "                    for i in xrange(magic(buildNum)):\n",
      "                        insertionPositions.append(currentPosition)\n",
      "                        currentPosition += 1\n",
      "                    buildNum = []\n",
      "            totalLength = currentPosition\n",
      "            \n",
      "            for position in insertionPositions:\n",
      "                insertionRelativePositions.append(float(position)/totalLength)\n",
      "            for position in deletionPositions:\n",
      "                deletionRelativePositions.append(float(position)/totalLength)                \n",
      "\n",
      "                    \n",
      "            # parse the MD:Z field for mismatches, \n",
      "            # deletions are marked with ^, insertions aren't recorded\n",
      "            MD = fields[12]\n",
      "            deleteflag = 0\n",
      "            buildNum = []\n",
      "            currentPosition = startSoft\n",
      "            for char in MD[5:]: # skip the fixed MD:Z: start\n",
      "                if deleteflag:\n",
      "                    if is_number(char): \n",
      "                        deleteflag = 0 # --> start of next range, reset\n",
      "                        buildNum.append(char)                       \n",
      "                elif char == '^': # marks a deletion\n",
      "                    deleteflag = 1\n",
      "                    currentPosition += magic(buildNum)\n",
      "                    buildNum = []\n",
      "                elif not is_number(char):\n",
      "                    Mismatch += 1\n",
      "                    currentPosition += magic(buildNum)+1\n",
      "                    mismatchRelativePosition = (currentPosition-startSoft)/float(totalLength)\n",
      "                    mismatchPositions.append(mismatchRelativePosition)\n",
      "                    buildNum = []\n",
      "                    newBase = fields[9][currentPosition-1]\n",
      "                    originalBase = char\n",
      "                    if originalBase == 'A':\n",
      "                        if newBase == 'C':\n",
      "                            AC += 1\n",
      "                        elif newBase == 'G':\n",
      "                            AG += 1\n",
      "                        elif newBase == 'T':\n",
      "                            AT += 1    \n",
      "                    if originalBase == 'C':\n",
      "                        if newBase == 'A':\n",
      "                            CA += 1\n",
      "                        elif newBase == 'G':\n",
      "                            CG += 1\n",
      "                        elif newBase == 'T':\n",
      "                            CT += 1\n",
      "                    if originalBase == 'G':\n",
      "                        if newBase == 'A':\n",
      "                            GA += 1\n",
      "                        elif newBase == 'C':\n",
      "                            GC += 1\n",
      "                        elif newBase == 'T':\n",
      "                            GT += 1                        \n",
      "                    if originalBase == 'T':\n",
      "                        if newBase == 'A':\n",
      "                            TA += 1\n",
      "                        elif newBase == 'C':\n",
      "                            TC += 1\n",
      "                        elif newBase == 'G':\n",
      "                            TG += 1                          \n",
      "                else:\n",
      "                    buildNum.append(char)\n",
      "                    \n",
      "            insertionPositions = []\n",
      "            deletionPositions = []\n",
      "\n",
      "\n",
      "        \n",
      "print 'Alignment Matches =', Match\n",
      "print 'Mismatches =', Mismatch\n",
      "print 'Deletions =', Deletion\n",
      "print 'Insertions =', Insertion\n",
      "print 'N =', N\n",
      "print 'Softclip =', Softclip\n",
      "print 'Hardclip =', Hardclip\n",
      "print 'Totalclip =', Softclip + Hardclip\n",
      "print 'Padding =', Padding\n",
      "\n",
      "print AC/float(Mismatch), AG/float(Mismatch), AT/float(Mismatch)\n",
      "print CA/float(Mismatch), CG/float(Mismatch), CT/float(Mismatch)\n",
      "print GA/float(Mismatch), GC/float(Mismatch), GT/float(Mismatch)\n",
      "print TA/float(Mismatch), TC/float(Mismatch), TG/float(Mismatch)\n",
      "print AC+AG+AT+ CA+CG+CT+ GA+ GC+ GT+ TA+ TC+ TG\n",
      "print \"Transition sum =\", (CT+TC+AG+GA)/float(Mismatch)\n",
      "\n",
      "\n",
      "print 'Total bases aligned =', (Match+Deletion+Insertion)\n",
      "print 'Fraction clipped =', float(Softclip+Hardclip)/(Softclip+Hardclip+Match+Deletion+Insertion)\n",
      "print 'Accuracy without clipping =', 1-float(Mismatch+Deletion+Insertion+Softclip+Hardclip)/(Match+Deletion+Insertion+Softclip+Hardclip)\n",
      "print 'Accuracy with clipping =', 1-float(Mismatch+Deletion+Insertion)/(Match+Deletion+Insertion)\n",
      "print 'Mismatch rate =', float(Mismatch)/(Match+Deletion+Insertion)\n",
      "print 'Insertion rate =', float(Insertion)/(Match+Deletion+Insertion) \n",
      "print 'Deletion rate =', float(Deletion)/(Match+Deletion+Insertion) \n",
      "\n",
      "print 'Number of aligned sequences =', alignedSequences"
     ],
     "language": "python",
     "metadata": {},
     "outputs": [
      {
       "output_type": "stream",
       "stream": "stdout",
       "text": [
        "/Users/jimstapleton/Dropbox/Papers/Sequencing/Github/MG1655\n",
        "Alignment Matches ="
       ]
      },
      {
       "output_type": "stream",
       "stream": "stdout",
       "text": [
        " 10162249\n",
        "Mismatches = 3897\n",
        "Deletions = 545\n",
        "Insertions = 23\n",
        "N = 0\n",
        "Softclip = 276021\n",
        "Hardclip = 929840\n",
        "Totalclip = 1205861\n",
        "Padding = 0\n",
        "0.0225814729279 0.250705671029 0.0628688734924\n",
        "0.0272004105722 0.0153964588145 0.108545034642\n",
        "0.104952527585 0.0128303823454 0.0266871952784\n",
        "0.052861175263 0.292019502181 0.0192455735181\n",
        "3881\n",
        "Transition sum = 0.756222735438\n",
        "Total bases aligned = 10162817\n",
        "Fraction clipped = 0.106068709132\n",
        "Accuracy without clipping = 0.893538545115\n",
        "Accuracy with clipping = 0.999560653311\n",
        "Mismatch rate = 0.000383456673479\n",
        "Insertion rate = 2.26315203747e-06\n",
        "Deletion rate = 5.36268634966e-05\n",
        "Number of aligned sequences = 4769\n"
       ]
      }
     ],
     "prompt_number": 46
    },
    {
     "cell_type": "heading",
     "level": 4,
     "metadata": {},
     "source": [
      "Mismatch rate of reads with 100 bp trimmed from each end"
     ]
    },
    {
     "cell_type": "code",
     "collapsed": false,
     "input": [
      "# Parse the cigar and MD fields of the alignment SAM file to calculate percent identity\n",
      "\n",
      "%cd ../MG1655\n",
      "Match = 0\n",
      "Softclip = 0\n",
      "Mismatch = 0\n",
      "Deletion = 0\n",
      "Insertion = 0\n",
      "N = 0\n",
      "Hardclip = 0\n",
      "Padding = 0\n",
      "AC = 0\n",
      "AG = 0\n",
      "AT = 0\n",
      "CA = 0\n",
      "CG = 0\n",
      "CT = 0\n",
      "GA = 0\n",
      "GC = 0\n",
      "GT = 0\n",
      "TA = 0\n",
      "TC = 0\n",
      "TG = 0\n",
      "mismatchPositions = []\n",
      "alignedSequences = 0\n",
      "insertionPositions = []\n",
      "deletionPositions = []\n",
      "insertionRelativePositions = []\n",
      "deletionRelativePositions = []\n",
      "\n",
      "def is_number(s):\n",
      "    '''http://stackoverflow.com/questions/354038/how-do-i-check-if-a-string-is-a-number-in-python'''\n",
      "    try:\n",
      "        int(s)\n",
      "        return True\n",
      "    except ValueError:\n",
      "        return False\n",
      "    \n",
      "def magic(numList):\n",
      "    '''http://stackoverflow.com/questions/489999/python-convert-list-of-ints-to-one-number'''\n",
      "    s = ''.join(map(str, numList))\n",
      "    return int(s)\n",
      "\n",
      "with open('tfalignMG1655.sam', 'r') as datafile:\n",
      "    for line in datafile:\n",
      "        alignedSequences += 1\n",
      "        fields = line.split()\n",
      "        if fields[0][:4] == 'NODE':\n",
      "            \n",
      "            # parse the cigar field to find number of matches, indels, etc\n",
      "            cigar = fields[5]\n",
      "            buildNum = []\n",
      "            currentPosition = 0 \n",
      "            startSoft = 0\n",
      "            for char in cigar:\n",
      "                if is_number(char):\n",
      "                    buildNum.append(char)\n",
      "                elif char == 'M':\n",
      "                    Match += magic(buildNum)         # this is matches + mismatches = alignment matches\n",
      "                    currentPosition += magic(buildNum)\n",
      "                    buildNum = []\n",
      "                elif char == 'S':\n",
      "                    Softclip += magic(buildNum)\n",
      "                    # keep track of soft clipping at the start of a read\n",
      "                    if currentPosition == 0:\n",
      "                        startSoft = magic(buildNum)\n",
      "                    buildNum = []\n",
      "                elif char == 'N':\n",
      "                    N += magic(buildNum)\n",
      "                    buildNum = []         \n",
      "                elif char == 'H':\n",
      "                    Hardclip += magic(buildNum)\n",
      "                    buildNum = []  \n",
      "                elif char == 'P':\n",
      "                    Padding += magic(buildNum)\n",
      "                    buildNum = [] \n",
      "                elif char == 'D':\n",
      "                    Deletion += magic(buildNum)\n",
      "                    for i in xrange(magic(buildNum)):\n",
      "                        deletionPositions.append(currentPosition)\n",
      "                    buildNum = []  \n",
      "                elif char == 'I':\n",
      "                    Insertion += magic(buildNum)\n",
      "                    for i in xrange(magic(buildNum)):\n",
      "                        insertionPositions.append(currentPosition)\n",
      "                        currentPosition += 1\n",
      "                    buildNum = []\n",
      "            totalLength = currentPosition\n",
      "            \n",
      "            for position in insertionPositions:\n",
      "                insertionRelativePositions.append(float(position)/totalLength)\n",
      "            for position in deletionPositions:\n",
      "                deletionRelativePositions.append(float(position)/totalLength)                \n",
      "\n",
      "                    \n",
      "            # parse the MD:Z field for mismatches, \n",
      "            # deletions are marked with ^, insertions aren't recorded\n",
      "            MD = fields[12]\n",
      "            deleteflag = 0\n",
      "            buildNum = []\n",
      "            currentPosition = startSoft\n",
      "            for char in MD[5:]: # skip the fixed MD:Z: start\n",
      "                if deleteflag:\n",
      "                    if is_number(char): \n",
      "                        deleteflag = 0 # --> start of next range, reset\n",
      "                        buildNum.append(char)                       \n",
      "                elif char == '^': # marks a deletion\n",
      "                    deleteflag = 1\n",
      "                    currentPosition += magic(buildNum)\n",
      "                    buildNum = []\n",
      "                elif not is_number(char):\n",
      "                    Mismatch += 1\n",
      "                    currentPosition += magic(buildNum)+1\n",
      "                    mismatchRelativePosition = (currentPosition-startSoft)/float(totalLength)\n",
      "                    mismatchPositions.append(mismatchRelativePosition)\n",
      "                    buildNum = []\n",
      "                    newBase = fields[9][currentPosition-1]\n",
      "                    originalBase = char\n",
      "                    if originalBase == 'A':\n",
      "                        if newBase == 'C':\n",
      "                            AC += 1\n",
      "                        elif newBase == 'G':\n",
      "                            AG += 1\n",
      "                        elif newBase == 'T':\n",
      "                            AT += 1    \n",
      "                    if originalBase == 'C':\n",
      "                        if newBase == 'A':\n",
      "                            CA += 1\n",
      "                        elif newBase == 'G':\n",
      "                            CG += 1\n",
      "                        elif newBase == 'T':\n",
      "                            CT += 1\n",
      "                    if originalBase == 'G':\n",
      "                        if newBase == 'A':\n",
      "                            GA += 1\n",
      "                        elif newBase == 'C':\n",
      "                            GC += 1\n",
      "                        elif newBase == 'T':\n",
      "                            GT += 1                        \n",
      "                    if originalBase == 'T':\n",
      "                        if newBase == 'A':\n",
      "                            TA += 1\n",
      "                        elif newBase == 'C':\n",
      "                            TC += 1\n",
      "                        elif newBase == 'G':\n",
      "                            TG += 1                          \n",
      "                else:\n",
      "                    buildNum.append(char)\n",
      "                    \n",
      "            insertionPositions = []\n",
      "            deletionPositions = []\n",
      "\n",
      "\n",
      "        \n",
      "print 'Alignment Matches =', Match\n",
      "print 'Mismatches =', Mismatch\n",
      "print 'Deletions =', Deletion\n",
      "print 'Insertions =', Insertion\n",
      "print 'N =', N\n",
      "print 'Softclip =', Softclip\n",
      "print 'Hardclip =', Hardclip\n",
      "print 'Totalclip =', Softclip + Hardclip\n",
      "print 'Padding =', Padding\n",
      "\n",
      "print AC/float(Mismatch), AG/float(Mismatch), AT/float(Mismatch)\n",
      "print CA/float(Mismatch), CG/float(Mismatch), CT/float(Mismatch)\n",
      "print GA/float(Mismatch), GC/float(Mismatch), GT/float(Mismatch)\n",
      "print TA/float(Mismatch), TC/float(Mismatch), TG/float(Mismatch)\n",
      "print AC+AG+AT+ CA+CG+CT+ GA+ GC+ GT+ TA+ TC+ TG\n",
      "print \"Transition sum =\", (CT+TC+AG+GA)/float(Mismatch)\n",
      "\n",
      "\n",
      "print 'Total bases aligned =', (Match+Deletion+Insertion)\n",
      "print 'Fraction clipped =', float(Softclip+Hardclip)/(Softclip+Hardclip+Match+Deletion+Insertion)\n",
      "print 'Accuracy without clipping =', 1-float(Mismatch+Deletion+Insertion+Softclip+Hardclip)/(Match+Deletion+Insertion+Softclip+Hardclip)\n",
      "print 'Accuracy with clipping =', 1-float(Mismatch+Deletion+Insertion)/(Match+Deletion+Insertion)\n",
      "print 'Mismatch rate =', float(Mismatch)/(Match+Deletion+Insertion)\n",
      "print 'Insertion rate =', float(Insertion)/(Match+Deletion+Insertion) \n",
      "print 'Deletion rate =', float(Deletion)/(Match+Deletion+Insertion) \n",
      "\n",
      "print 'Number of aligned sequences =', alignedSequences"
     ],
     "language": "python",
     "metadata": {},
     "outputs": [
      {
       "output_type": "stream",
       "stream": "stdout",
       "text": [
        "/Users/jimstapleton/NGS/140502HiSeq/final/P20EM4/singleFileNoFlashUseFwdUn\n",
        "Alignment Matches ="
       ]
      },
      {
       "output_type": "stream",
       "stream": "stdout",
       "text": [
        " 9733945\n",
        "Mismatches = 3076\n",
        "Deletions = 518\n",
        "Insertions = 20\n",
        "N = 0\n",
        "Softclip = 239825\n",
        "Hardclip = 496929\n",
        "Totalclip = 736754\n",
        "Padding = 0\n",
        "0.018855656697 0.250325097529 0.0614434330299\n",
        "0.0217815344603 0.0113784135241 0.115084525358\n",
        "0.106306892068 0.0107282184655 0.0227568270481\n",
        "0.0481144343303 0.31144343303 0.0169050715215\n",
        "3061\n",
        "Transition sum = 0.783159947984\n",
        "Total bases aligned = 9734483\n",
        "Fraction clipped = 0.0703597865276\n",
        "Accuracy with clipping = 0.929295077554\n",
        "Accuracy without clipping = 0.999628742482\n",
        "Mismatch rate = 0.000315990073638\n",
        "Insertion rate = 2.0545518442e-06\n",
        "Deletion rate = 5.32128927648e-05\n",
        "Number of aligned sequences = 2410\n"
       ]
      }
     ],
     "prompt_number": 329
    },
    {
     "cell_type": "code",
     "collapsed": false,
     "input": [
      "publishable = plotsettings.Set('Science') \n",
      "publishable.set_figsize(n_columns = 1.5, n_rows = 2)\n",
      "\n",
      "labelx = -0.3\n",
      "\n",
      "fig, ax = plt.subplots()\n",
      "\n",
      "ax2 = plt.subplot(211)\n",
      "numBins = 20\n",
      "averageLength = (Match+Deletion+Insertion)/alignedSequences\n",
      "binSize = averageLength/numBins\n",
      "scaleToErrorRate = np.ones_like(insertionRelativePositions)/(binSize*alignedSequences)*100\n",
      "plt.hist(insertionRelativePositions, weights=scaleToErrorRate, bins=numBins, color='lightgray')\n",
      "ax2.set_ylabel(\"Insertion rate (%)\")\n",
      "plt.locator_params(nbins=4)\n",
      "ax2.spines['top'].set_visible(False)\n",
      "ax2.xaxis.set_ticks_position('bottom')\n",
      "ax2.yaxis.set_ticks_position('left')\n",
      "ax2.get_yaxis().set_label_coords(labelx, 0.5)\n",
      "ax2.tick_params(axis='both', which='major', direction='out')\n",
      "\n",
      "\n",
      "ax3 = plt.subplot(212)\n",
      "numBins = 20\n",
      "averageLength = (Match+Deletion+Insertion)/alignedSequences\n",
      "binSize = averageLength/numBins\n",
      "scaleToErrorRate = np.ones_like(deletionRelativePositions)/(binSize*alignedSequences)*100\n",
      "plt.hist(deletionRelativePositions, weights=scaleToErrorRate, bins=numBins, color='lightgray')\n",
      "ax3.set_xlabel(\"Relative position\")\n",
      "ax3.set_ylabel(\"Deletion rate (%)\")\n",
      "plt.locator_params(nbins=3)\n",
      "ax3.spines['top'].set_visible(False)\n",
      "ax3.xaxis.set_ticks_position('bottom')\n",
      "ax3.yaxis.set_ticks_position('left')\n",
      "ax3.get_yaxis().set_label_coords(labelx, 0.5)\n",
      "ax3.tick_params(axis='both', which='major', direction='out')\n",
      "\n",
      "\n",
      "plt.tight_layout()\n",
      "plt.show()\n",
      "#plt.savefig('ErrorPofile.pdf', format='pdf')"
     ],
     "language": "python",
     "metadata": {},
     "outputs": [
      {
       "metadata": {},
       "output_type": "display_data",
       "png": "[encoded data removed]",
       "text": [
        "<matplotlib.figure.Figure at 0x1110b6d10>"
       ]
      }
     ],
     "prompt_number": 47
    },
    {
     "cell_type": "heading",
     "level": 4,
     "metadata": {},
     "source": [
      "Jasmine length distribution"
     ]
    },
    {
     "cell_type": "code",
     "collapsed": false,
     "input": [
      "%cd ../Gelsemium/\n",
      "Jasmine_contiglengths = []\n",
      "numContigs = 0\n",
      "with open(\"contig_lengths\", \"r\") as f:\n",
      "    for line in f:\n",
      "        if float(line) > 1500:\n",
      "            Jasmine_contiglengths.append(float(line))\n",
      "            numContigs += 1\n",
      "print numContigs, \"longer than 1.5 kb\""
     ],
     "language": "python",
     "metadata": {},
     "outputs": [
      {
       "output_type": "stream",
       "stream": "stdout",
       "text": [
        "/Users/jimstapleton/Dropbox/Papers/Sequencing/Github/Gelsemium\n",
        "111054"
       ]
      },
      {
       "output_type": "stream",
       "stream": "stdout",
       "text": [
        " longer than 1.5 kb\n"
       ]
      }
     ],
     "prompt_number": 30
    },
    {
     "cell_type": "code",
     "collapsed": false,
     "input": [
      "sumLength = 0\n",
      "for contiglength in Jasmine_contiglengths:\n",
      "    sumLength += contiglength\n",
      "\n",
      "N50sum = 0\n",
      "for contiglength in Jasmine_contiglengths:\n",
      "    N50sum += contiglength\n",
      "    if N50sum/float(sumLength) > 0.5:\n",
      "        print \"N50 is\", contiglength\n",
      "        break"
     ],
     "language": "python",
     "metadata": {},
     "outputs": [
      {
       "output_type": "stream",
       "stream": "stdout",
       "text": [
        "N50 is 4251.0\n"
       ]
      }
     ],
     "prompt_number": 31
    },
    {
     "cell_type": "code",
     "collapsed": false,
     "input": [
      "Jasmine_contiglengths = []\n",
      "numContigs = 0\n",
      "with open(\"contig_lengths\", \"r\") as f:\n",
      "    for line in f:\n",
      "        if float(line) > 1000:\n",
      "            Jasmine_contiglengths.append(float(line))\n",
      "            numContigs += 1\n",
      "print numContigs, \"longer than 1 kb\""
     ],
     "language": "python",
     "metadata": {},
     "outputs": [
      {
       "output_type": "stream",
       "stream": "stdout",
       "text": [
        "149447 longer than 1 kb\n"
       ]
      }
     ],
     "prompt_number": 32
    },
    {
     "cell_type": "code",
     "collapsed": false,
     "input": [
      "sumLength = 0\n",
      "for contiglength in Jasmine_contiglengths:\n",
      "    sumLength += contiglength\n",
      "\n",
      "N50sum = 0\n",
      "for contiglength in Jasmine_contiglengths:\n",
      "    N50sum += contiglength\n",
      "    if N50sum/float(sumLength) > 0.5:\n",
      "        print \"N50 is\", contiglength\n",
      "        break"
     ],
     "language": "python",
     "metadata": {},
     "outputs": [
      {
       "output_type": "stream",
       "stream": "stdout",
       "text": [
        "N50 is 3936.0\n"
       ]
      }
     ],
     "prompt_number": 33
    },
    {
     "cell_type": "code",
     "collapsed": false,
     "input": [
      "publishable = plotsettings.Set('Science')\n",
      "publishable.set_figsize(n_columns = 1, n_rows = 2.5)\n",
      "\n",
      "fig, ax = plt.subplots()\n",
      "plt.subplots_adjust(hspace = 2)\n",
      "\n",
      "labelx = -0.4\n",
      "\n",
      "ax1 = plt.subplot(311)\n",
      "ECplotlengths = [contiglength/(float(1000)) for contiglength in Ecoli_contiglengths]\n",
      "plt.hist(ECplotlengths, bins=25, color='darkorange')\n",
      "plt.axis([0,11,0,600])\n",
      "plt.xlabel(\"Synthetic read length (kb)\")\n",
      "plt.ylabel(\"Count\")\n",
      "ax1.spines['right'].set_visible(False)\n",
      "ax1.spines['top'].set_visible(False)\n",
      "ax1.xaxis.set_ticks_position('bottom')\n",
      "ax1.yaxis.set_ticks_position('left')\n",
      "plt.locator_params(nbins=4)\n",
      "plt.tick_params(axis='both', which='major', direction='out')\n",
      "ax1.yaxis.set_label_coords(labelx, 0.5)\n",
      "\n",
      "\n",
      "ax2 = plt.subplot(312)\n",
      "numBins = 20\n",
      "averageLength = (Match+Deletion+Insertion)/alignedSequences\n",
      "binSize = averageLength/numBins\n",
      "scaleToErrorRate = np.ones_like(mismatchPositions)/(binSize*alignedSequences)*100\n",
      "plt.hist(mismatchPositions, weights=scaleToErrorRate, bins=numBins, color='darkorange')\n",
      "ax1.get_yaxis().set_label_coords(labelx, 0.5)\n",
      "plt.axis([0,1,0,0.15])\n",
      "plt.xlabel(\"Relative positon\")\n",
      "plt.ylabel(\"Mismatch\\nrate (%)\")\n",
      "plt.locator_params(nbins=2)\n",
      "ax2.spines['right'].set_visible(False)\n",
      "ax2.spines['top'].set_visible(False)\n",
      "ax2.xaxis.set_ticks_position('bottom')\n",
      "ax2.yaxis.set_ticks_position('left')\n",
      "plt.tick_params(axis='both', which='major', direction='out')\n",
      "ax2.yaxis.set_label_coords(labelx+.09, 0.5)\n",
      "\n",
      "\n",
      "ax3 = plt.subplot(313)\n",
      "JEplotlengths = [contiglength/(float(1000)) for contiglength in Jasmine_contiglengths]\n",
      "plt.hist(JEplotlengths, bins=25, color='burlywood')\n",
      "plt.axis([0,11,0,23000])\n",
      "plt.xlabel(\"Synthetic read length (kb)\")\n",
      "plt.ylabel(\"Count\")\n",
      "ax3.spines['right'].set_visible(False)\n",
      "ax3.spines['top'].set_visible(False)\n",
      "ax3.xaxis.set_ticks_position('bottom')\n",
      "ax3.yaxis.set_ticks_position('left')\n",
      "plt.tick_params(axis='both', which='major', direction='out')\n",
      "ax3.yaxis.set_label_coords(labelx, 0.5)\n",
      "plt.locator_params(nbins=4)\n",
      "\n",
      "plt.tight_layout()\n",
      "\n",
      "plt.show()\n",
      "#plt.savefig('Ecoli_Jasmine_contigLengthHistogram.pdf', format='pdf')"
     ],
     "language": "python",
     "metadata": {},
     "outputs": [
      {
       "metadata": {},
       "output_type": "display_data",
       "png": "[encoded data removed]",
       "text": [
        "<matplotlib.figure.Figure at 0x110db5650>"
       ]
      }
     ],
     "prompt_number": 48
    },
    {
     "cell_type": "heading",
     "level": 4,
     "metadata": {},
     "source": [
      "Multiplexed experiment"
     ]
    },
    {
     "cell_type": "code",
     "collapsed": false,
     "input": [
      "%cd ../multiplex/\n",
      "totalLongContigs = 0\n",
      "N50dist = []\n",
      "lengthlist = []\n",
      "\n",
      "for i in range(1,25):\n",
      "    contiglengths = []\n",
      "    numContigs = 0\n",
      "    sumLength = 0\n",
      "    print \"Strain #\"+ str(i) +\":\"\n",
      "    with open(\"contig_lengths_\" + str(i), \"r\") as f:\n",
      "        for line in f:\n",
      "            if float(line) > 1000:\n",
      "                contiglengths.append(float(line)/1000)\n",
      "                numContigs += 1\n",
      "    for contiglength in contiglengths:\n",
      "        sumLength += contiglength\n",
      "        \n",
      "    lengthlist.append(float(sumLength)/4600)\n",
      "    print numContigs, \"longer than 1kb\"\n",
      "    totalLongContigs += numContigs\n",
      "    N50sum = 0\n",
      "    for contiglength in contiglengths:\n",
      "        N50sum += contiglength\n",
      "        if N50sum/float(sumLength) > 0.5:\n",
      "            print \"N50 is\", contiglength, 'kb\\n'\n",
      "            N50dist.append(contiglength)\n",
      "            break\n",
      "            \n",
      "print \"Total contigs >1kb: \" + str(totalLongContigs)\n",
      "            \n",
      "print \"Median N50 is\", np.median(N50dist)\n",
      "print \"Median E. coli genome coverage is\", np.median(lengthlist)\n",
      "            \n",
      "print N50dist\n",
      "print lengthlist\n",
      "print \"Average genome coverage is\", np.average(lengthlist)"
     ],
     "language": "python",
     "metadata": {},
     "outputs": [
      {
       "output_type": "stream",
       "stream": "stdout",
       "text": [
        "/Users/jimstapleton/Dropbox/Papers/Sequencing/Github/multiplex\n",
        "Strain #1:\n",
        "2868 longer than 1kb\n",
        "N50 is 3.921 kb\n",
        "\n",
        "Strain #2:\n",
        "2366 longer than 1kb\n",
        "N50 is 4.218 kb\n",
        "\n",
        "Strain #3:\n",
        "7262 longer than 1kb\n",
        "N50 is 3.866 kb\n",
        "\n",
        "Strain #4:\n",
        "4673 longer than 1kb\n",
        "N50 is 3.914 kb\n",
        "\n",
        "Strain #5:\n",
        "7782 longer than 1kb\n",
        "N50 is 3.746 kb\n",
        "\n",
        "Strain #6:\n",
        "1454"
       ]
      },
      {
       "output_type": "stream",
       "stream": "stdout",
       "text": [
        " longer than 1kb\n",
        "N50 is 4.319 kb\n",
        "\n",
        "Strain #7:\n",
        "5766 longer than 1kb\n",
        "N50 is 3.749 kb\n",
        "\n",
        "Strain #8:\n",
        "4806 longer than 1kb\n",
        "N50 is 3.976 kb\n",
        "\n",
        "Strain #9:\n",
        "800 longer than 1kb\n",
        "N50 is 4.487 kb\n",
        "\n",
        "Strain #10:\n",
        "508 longer than 1kb\n",
        "N50 is 4.204 kb\n",
        "\n",
        "Strain #11:\n",
        "5253 longer than 1kb\n",
        "N50 is 3.776 kb\n",
        "\n",
        "Strain #12:\n",
        "6325 longer than 1kb\n",
        "N50 is 3.796 kb\n",
        "\n",
        "Strain #13:\n",
        "3654 longer than 1kb\n",
        "N50 is"
       ]
      },
      {
       "output_type": "stream",
       "stream": "stdout",
       "text": [
        " 4.137 kb\n",
        "\n",
        "Strain #14:\n",
        "2634 longer than 1kb\n",
        "N50 is 5.084 kb\n",
        "\n",
        "Strain #15:\n",
        "5031 longer than 1kb\n",
        "N50 is 4.243 kb\n",
        "\n",
        "Strain #16:\n",
        "2985 longer than 1kb\n",
        "N50 is 4.269 kb\n",
        "\n",
        "Strain #17:\n",
        "830 longer than 1kb\n",
        "N50 is 5.231 kb\n",
        "\n",
        "Strain #18:\n",
        "4720 longer than 1kb\n",
        "N50 is 4.123 kb\n",
        "\n",
        "Strain #19:\n",
        "2860 longer than 1kb\n",
        "N50 is 2.457 kb\n",
        "\n",
        "Strain #20:\n",
        "3251 longer than 1kb\n",
        "N50 is 4.124 kb\n",
        "\n",
        "Strain #21:\n",
        "3257 longer than 1kb\n",
        "N50 is 4.142 kb\n",
        "\n",
        "Strain #22:\n",
        "976"
       ]
      },
      {
       "output_type": "stream",
       "stream": "stdout",
       "text": [
        " longer than 1kb\n",
        "N50 is 3.643 kb\n",
        "\n",
        "Strain #23:\n",
        "3136 longer than 1kb\n",
        "N50 is 4.175 kb\n",
        "\n",
        "Strain #24:\n",
        "4198 longer than 1kb\n",
        "N50 is 4.137 kb\n",
        "\n",
        "Total contigs >1kb: 87395\n",
        "Median N50 is 4.1305\n",
        "Median E. coli genome coverage is 2.26210293478\n",
        "[3.921, 4.218, 3.866, 3.914, 3.746, 4.319, 3.749, 3.976, 4.487, 4.204, 3.776, 3.796, 4.137, 5.084, 4.243, 4.269, 5.231, 4.123, 2.457, 4.124, 4.142, 3.643, 4.175, 4.137]\n",
        "[1.9402604347826105, 1.7436178260869557, 4.772935217391331, 3.0946341304347773, 4.860702173913036, 1.0979191304347835, 3.780475869565225, 3.2126756521739193, 0.5704360869565211, 0.3277356521739132, 3.321116304347827, 3.964137826086967, 2.5885878260869544, 2.097171739130431, 3.6391558695652084, 2.1115373913043505, 0.6806165217391313, 3.2016921739130577, 1.3276356521739134, 2.258181739130441, 2.266024130434786, 0.5951878260869561, 2.213406739130435, 2.8256082608695605]\n",
        "Average genome coverage is 2.43714384058\n"
       ]
      }
     ],
     "prompt_number": 5
    },
    {
     "cell_type": "code",
     "collapsed": false,
     "input": [
      "%cd ../multiplex/\n",
      "publishable = plotsettings.Set('Science')\n",
      "publishable.set_figsize(n_columns = 4, n_rows = 6)\n",
      "\n",
      "x = np.arange(0,10.0, 0.1)\n",
      "fig, ax = plt.subplots(6,4, sharex=True, sharey=True)\n",
      "#fig.subplots_adjust(hspace = 500, wspace=100)\n",
      "\n",
      "for i, a in enumerate(ax.flatten()):\n",
      "    contiglengths = []\n",
      "    with open(\"contig_lengths_\" + str(i+1), \"r\") as f:\n",
      "        for line in f:\n",
      "            if float(line) > 1000:\n",
      "                contiglengths.append(float(line))\n",
      "    plotlengths = [contiglength/(float(1000)) for contiglength in contiglengths]\n",
      "    a.hist(plotlengths, bins=25, color='lightgray')\n",
      "    a.axis([0,8,0,1600])\n",
      "    a.locator_params(nbins=4)\n",
      "    a.spines['right'].set_visible(False)\n",
      "    a.spines['top'].set_visible(False)\n",
      "    a.xaxis.set_ticks_position('bottom')\n",
      "    a.yaxis.set_ticks_position('left')\n",
      "    a.tick_params(axis='both', which='major', direction='out')\n",
      "    a.text(4, 1200, 'strain ' + str(i+1), fontsize=12)\n",
      "\n",
      "    \n",
      "fig.text(0.5, 0.04, \"Synthetic read length (kb)\", ha='center', va='center', size=14)\n",
      "fig.text(0.06, 0.5, \"Count\", ha='center', va='center', rotation='vertical', size=14)\n",
      "\n",
      "plt.show()\n",
      "#plt.savefig('Multiplex_contigLengthHistograms.pdf', format='pdf')"
     ],
     "language": "python",
     "metadata": {},
     "outputs": [
      {
       "output_type": "stream",
       "stream": "stdout",
       "text": [
        "/Users/jimstapleton/Dropbox/Papers/Sequencing/Github/multiplex\n",
        "/Users/jimstapleton/Dropbox/Papers/Sequencing/Figures"
       ]
      },
      {
       "output_type": "stream",
       "stream": "stdout",
       "text": [
        "\n"
       ]
      },
      {
       "output_type": "stream",
       "stream": "stderr",
       "text": [
        "/Users/jimstapleton/Library/Enthought/Canopy_64bit/User/lib/python2.7/site-packages/matplotlib/font_manager.py:1236: UserWarning: findfont: Font family [u'sans-serif'] not found. Falling back to Bitstream Vera Sans\n",
        "  (prop.get_family(), self.defaultFamily[fontext]))\n"
       ]
      },
      {
       "metadata": {},
       "output_type": "display_data",
       "png": "[encoded data removed]",
       "text": [
        "<matplotlib.figure.Figure at 0x10ddcba10>"
       ]
      }
     ],
     "prompt_number": 6
    },
    {
     "cell_type": "code",
     "collapsed": false,
     "input": [
      "# Sum and genome coverage of all synthetic reads, including shorter than 1kb\n",
      "totalbases = [11395127,\n",
      "9884353,\n",
      "28519530,\n",
      "18538996,\n",
      "30678310,\n",
      "6172961,\n",
      "22015177,\n",
      "19020660,\n",
      "4428893,\n",
      "2675525,\n",
      "20549003,\n",
      "24682192,\n",
      "14881125,\n",
      "11922925,\n",
      "20566605,\n",
      "12144709,\n",
      "3890909,\n",
      "19092366,\n",
      "10752461,\n",
      "13204740,\n",
      "13351822,\n",
      "3776251,\n",
      "12617665,\n",
      "17003027]\n",
      "print [totalbase/float(4600000) for totalbase in totalbases]"
     ],
     "language": "python",
     "metadata": {},
     "outputs": [
      {
       "output_type": "stream",
       "stream": "stdout",
       "text": [
        "[2.4772015217391306, 2.1487723913043477, 6.199897826086956, 4.03021652173913, 6.669197826086957, 1.341948043478261, 4.785908043478261, 4.134926086956522, 0.9628028260869566, 0.5816358695652174, 4.467174565217391, 5.365693913043478, 3.2350271739130436, 2.591940217391304, 4.471001086956521, 2.6401541304347824, 0.8458497826086957, 4.150514347826087, 2.3374915217391306, 2.870595652173913, 2.90257, 0.8209241304347826, 2.7429706521739132, 3.6963102173913045]\n"
       ]
      }
     ],
     "prompt_number": 8
    },
    {
     "cell_type": "code",
     "collapsed": false,
     "input": [
      "# Trimmed reads demultiplexed to each strain\n",
      "readcounts = [\n",
      "8872508,\n",
      "11930637,\n",
      "10809493,\n",
      "7954228,\n",
      "10911001,\n",
      "6665185,\n",
      "13681197,\n",
      "8853848,\n",
      "9302047,\n",
      "7254760,\n",
      "8048677,\n",
      "8929129,\n",
      "9800591,\n",
      "10318263,\n",
      "14214396,\n",
      "8038491,\n",
      "4071121,\n",
      "9047392,\n",
      "2093789,\n",
      "6834299,\n",
      "7798683,\n",
      "1060475,\n",
      "8673609,\n",
      "6553945]"
     ],
     "language": "python",
     "metadata": {},
     "outputs": [],
     "prompt_number": 9
    },
    {
     "cell_type": "code",
     "collapsed": false,
     "input": [
      "publishable = plotsettings.Set('Science')\n",
      "publishable.set_figsize(n_columns = .9, n_rows =1)\n",
      "\n",
      "fig = plt.figure()\n",
      "\n",
      "labelx = -0.5\n",
      "ax = plt.subplot(111)\n",
      "scaledreadcounts = [count/float(500000) for count in readcounts]\n",
      "lotsocolors = ['tomato',\n",
      "'aqua',\n",
      "'aquamarine',\n",
      "'blue',\n",
      "'blueviolet',\n",
      "'brown',\n",
      "'chartreuse',\n",
      "'chocolate',\n",
      "'coral',\n",
      "'crimson',\n",
      "'cyan',\n",
      "'darkblue',\n",
      "'darkcyan',\n",
      "'darkgoldenrod',\n",
      "'darkgray',\n",
      "'darkgreen',\n",
      "'darkmagenta',\n",
      "'darkolivegreen',\n",
      "'darkorange',\n",
      "'darkorchid',\n",
      "'darkseagreen',\n",
      "'deeppink',\n",
      "'thistle'\n",
      "]\n",
      "plt.scatter(N50dist, lengthlist, s=scaledreadcounts, facecolors=lotsocolors, edgecolors='none')\n",
      "plt.xlabel(\"N50 length (kb)\")\n",
      "plt.ylabel(\"$E. coli$ genome\\ncoverage\\n(fold)\")\n",
      "ax.spines['right'].set_visible(False)\n",
      "ax.spines['top'].set_visible(False)\n",
      "ax.xaxis.set_ticks_position('bottom')\n",
      "ax.yaxis.set_ticks_position('left')\n",
      "ax.yaxis.set_label_coords(labelx+.22, 0.5)\n",
      "plt.tick_params(axis='both', which='major', direction='out')\n",
      "plt.locator_params(nbins=4)\n",
      "plt.tight_layout()\n",
      "\n",
      "plt.show()\n",
      "#plt.savefig('Multiplex.pdf', format='pdf')"
     ],
     "language": "python",
     "metadata": {},
     "outputs": [
      {
       "metadata": {},
       "output_type": "display_data",
       "png": "[encoded data removed]",
       "text": [
        "<matplotlib.figure.Figure at 0x10e3fee50>"
       ]
      }
     ],
     "prompt_number": 10
    },
    {
     "cell_type": "heading",
     "level": 3,
     "metadata": {},
     "source": [
      "Figure 2: mRNA length histograms"
     ]
    },
    {
     "cell_type": "code",
     "collapsed": false,
     "input": [
      "%cd ../HCT116/\n",
      "HCTcontiglengths = []\n",
      "numContigs = 0\n",
      "with open(\"contig_lengths\", \"r\") as f:\n",
      "    for line in f:\n",
      "        if float(line) > 1000:\n",
      "            HCTcontiglengths.append(float(line))\n",
      "            numContigs += 1\n",
      "print numContigs, \"longer than 1000 bp\""
     ],
     "language": "python",
     "metadata": {},
     "outputs": [
      {
       "output_type": "stream",
       "stream": "stdout",
       "text": [
        "/Users/jimstapleton/Dropbox/Papers/Sequencing/Github/HCT116\n",
        "11707 longer than 1000 bp\n"
       ]
      }
     ],
     "prompt_number": 5
    },
    {
     "cell_type": "code",
     "collapsed": false,
     "input": [
      "sumLength = 0\n",
      "for contiglength in HCTcontiglengths:\n",
      "    sumLength += contiglength\n",
      "\n",
      "N50sum = 0\n",
      "for contiglength in HCTcontiglengths:\n",
      "    N50sum += contiglength\n",
      "    if N50sum/float(sumLength) > 0.5:\n",
      "        print \"N50 is\", contiglength\n",
      "        break"
     ],
     "language": "python",
     "metadata": {},
     "outputs": [
      {
       "output_type": "stream",
       "stream": "stdout",
       "text": [
        "N50 is 1465.0\n"
       ]
      }
     ],
     "prompt_number": 6
    },
    {
     "cell_type": "code",
     "collapsed": false,
     "input": [
      "%cd ../HCT116/\n",
      "HCTcontiglengths = []\n",
      "numContigs = 0\n",
      "with open(\"contig_lengths\", \"r\") as f:\n",
      "    for line in f:\n",
      "        if float(line) > 500:\n",
      "            HCTcontiglengths.append(float(line))\n",
      "            numContigs += 1\n",
      "print numContigs, \"longer than 500 bp\""
     ],
     "language": "python",
     "metadata": {},
     "outputs": [
      {
       "output_type": "stream",
       "stream": "stdout",
       "text": [
        "/Users/jimstapleton/Dropbox/Papers/Sequencing/Github/HCT116\n",
        "28689 longer than 500 bp\n"
       ]
      }
     ],
     "prompt_number": 7
    },
    {
     "cell_type": "code",
     "collapsed": false,
     "input": [
      "%cd ../HepG2/\n",
      "Hepcontiglengths = []\n",
      "numContigs = 0\n",
      "with open(\"contig_lengths\", \"r\") as f:\n",
      "    for line in f:\n",
      "        if float(line) > 1000:\n",
      "            Hepcontiglengths.append(float(line))\n",
      "            numContigs += 1\n",
      "print numContigs, \"longer than 1000 bp\""
     ],
     "language": "python",
     "metadata": {},
     "outputs": [
      {
       "output_type": "stream",
       "stream": "stdout",
       "text": [
        "/Users/jimstapleton/Dropbox/Papers/Sequencing/Github/HepG2\n",
        "6640 longer than 1000 bp\n"
       ]
      }
     ],
     "prompt_number": 12
    },
    {
     "cell_type": "code",
     "collapsed": false,
     "input": [
      "sumLength = 0\n",
      "for contiglength in Hepcontiglengths:\n",
      "    sumLength += contiglength\n",
      "\n",
      "N50sum = 0\n",
      "for contiglength in Hepcontiglengths:\n",
      "    N50sum += contiglength\n",
      "    if N50sum/float(sumLength) > 0.5:\n",
      "        print \"N50 is\", contiglength\n",
      "        break"
     ],
     "language": "python",
     "metadata": {},
     "outputs": [
      {
       "output_type": "stream",
       "stream": "stdout",
       "text": [
        "N50 is 1639.0\n"
       ]
      }
     ],
     "prompt_number": 13
    },
    {
     "cell_type": "code",
     "collapsed": false,
     "input": [
      "%cd ../HepG2/\n",
      "Hepcontiglengths = []\n",
      "numContigs = 0\n",
      "with open(\"contig_lengths\", \"r\") as f:\n",
      "    for line in f:\n",
      "        if float(line) > 500:\n",
      "            Hepcontiglengths.append(float(line))\n",
      "            numContigs += 1\n",
      "print numContigs, \"longer than 500 bp\""
     ],
     "language": "python",
     "metadata": {},
     "outputs": [
      {
       "output_type": "stream",
       "stream": "stdout",
       "text": [
        "/Users/jimstapleton/Dropbox/Papers/Sequencing/Github/HepG2\n",
        "16929 longer than 500 bp\n"
       ]
      }
     ],
     "prompt_number": 14
    },
    {
     "cell_type": "code",
     "collapsed": false,
     "input": [
      "publishable = plotsettings.Set('Science')\n",
      "publishable.set_figsize(n_columns = 1, n_rows = 2)\n",
      "\n",
      "fig, ax = plt.subplots()\n",
      "\n",
      "ax1 = plt.subplot(211)\n",
      "plt.hist(HCTcontiglengths, bins=20, color='lightblue')\n",
      "plt.axis([0,3000,0,7000])\n",
      "plt.ylabel(\"Count\")\n",
      "ax1.spines['right'].set_visible(False)\n",
      "ax1.spines['top'].set_visible(False)\n",
      "ax1.xaxis.set_ticks_position('bottom')\n",
      "ax1.yaxis.set_ticks_position('left')\n",
      "plt.tick_params(axis='both', which='major', direction='out')\n",
      "plt.locator_params(nbins=4)\n",
      "\n",
      "ax2 = plt.subplot(212)\n",
      "plt.hist(Hepcontiglengths, bins=30, color='steelblue')\n",
      "plt.axis([0,3000,0,7000])\n",
      "plt.xlabel(\"Synthetic read length (kb)\")\n",
      "plt.ylabel(\"Count\")\n",
      "ax2.spines['right'].set_visible(False)\n",
      "ax2.spines['top'].set_visible(False)\n",
      "ax2.xaxis.set_ticks_position('bottom')\n",
      "ax2.yaxis.set_ticks_position('left')\n",
      "plt.tick_params(axis='both', which='major', direction='out')\n",
      "plt.locator_params(nbins=4)\n",
      "plt.tight_layout()\n",
      "\n",
      "\n",
      "plt.show()\n",
      "#plt.savefig('mRNA_length.pdf', format='pdf')"
     ],
     "language": "python",
     "metadata": {},
     "outputs": [
      {
       "output_type": "stream",
       "stream": "stdout",
       "text": [
        "/Users/jimstapleton/Dropbox/Papers/Sequencing/Figures\n"
       ]
      },
      {
       "metadata": {},
       "output_type": "display_data",
       "png": "[encoded data removed]",
       "text": [
        "<matplotlib.figure.Figure at 0x114f73c50>"
       ]
      }
     ],
     "prompt_number": 421
    },
    {
     "cell_type": "code",
     "collapsed": false,
     "input": [
      "publishable = plotsettings.Set('Science')\n",
      "publishable.set_figsize(n_columns = 1, n_rows = 1)\n",
      "\n",
      "sizes = [97,3]\n",
      "colors = ['white', 'black']\n",
      "\n",
      "plt.pie(sizes, colors=colors,\n",
      "        shadow=False, startangle=90)\n",
      "plt.axis('equal')\n",
      "plt.tight_layout()\n",
      "\n",
      "\n",
      "plt.show()\n",
      "#plt.savefig('mRNA_pie.pdf', format='pdf')"
     ],
     "language": "python",
     "metadata": {},
     "outputs": [
      {
       "output_type": "stream",
       "stream": "stdout",
       "text": [
        "/Users/jimstapleton/Dropbox/Papers/Sequencing/Figures\n"
       ]
      },
      {
       "metadata": {},
       "output_type": "display_data",
       "png": "[encoded data removed]",
       "text": [
        "<matplotlib.figure.Figure at 0x10f04bc10>"
       ]
      }
     ],
     "prompt_number": 124
    },
    {
     "cell_type": "code",
     "collapsed": false,
     "input": [
      "short_junctions = []\n",
      "with open('HCT_read_blocks.txt', 'r') as data:\n",
      "    for line in data:\n",
      "        for datafield in line.split('\\r'):\n",
      "            short_junctions.append(int(datafield.rstrip())-1)\n",
      "\n",
      "with open('Hep_read_blocks.txt', 'r') as data:\n",
      "   for line in data:\n",
      "        for datafield in line.split('\\r'):\n",
      "            short_junctions.append(int(datafield.rstrip())-1)\n",
      "print len(short_junctions)\n",
      "\n",
      "HCT_long_junctions = []\n",
      "with open('HCT_long_read_blocks.txt', 'r') as data:\n",
      "   for line in data:\n",
      "        for datafield in line.split('\\r'):\n",
      "            HCT_long_junctions.append(int(datafield.rstrip())-1)\n",
      "print len(HCT_long_junctions)\n",
      "\n",
      "Hep_long_junctions = []\n",
      "with open('Hep_long_read_blocks.txt', 'r') as data:\n",
      "   for line in data:\n",
      "        for datafield in line.split('\\r'):\n",
      "            Hep_long_junctions.append(int(datafield.rstrip())-1)\n",
      "print len(Hep_long_junctions)\n",
      "\n",
      "\n",
      "print np.median(np.array(short_junctions))\n",
      "print np.median(np.array(HCT_long_junctions))\n",
      "print np.median(np.array(Hep_long_junctions))"
     ],
     "language": "python",
     "metadata": {},
     "outputs": [
      {
       "output_type": "stream",
       "stream": "stdout",
       "text": [
        "/Users/jimstapleton/Dropbox/Papers/Sequencing/Github\n",
        "6952\n",
        "24858\n",
        "16202\n",
        "0.0\n",
        "2.0\n",
        "2.0\n"
       ]
      }
     ],
     "prompt_number": 36
    },
    {
     "cell_type": "code",
     "collapsed": false,
     "input": [
      "publishable = plotsettings.Set('Science')\n",
      "publishable.set_figsize(n_columns = 1, n_rows = 2)\n",
      "\n",
      "#http://nbviewer.ipython.org/gist/olgabot/5432378\n",
      "#http://blog.bharatbhole.com/creating-boxplots-with-matplotlib/\n",
      "\n",
      "data_to_plot = [short_junctions, HCT_long_junctions, Hep_long_junctions]\n",
      "fig = plt.figure()\n",
      "ax = fig.add_subplot(211)\n",
      "ax2 = fig.add_subplot(212)\n",
      "bp = ax.boxplot(data_to_plot, widths=.2, notch=True, patch_artist=True)\n",
      "bp2 = ax2.boxplot(data_to_plot, widths=.2, notch=True, patch_artist=True)\n",
      "ax.set_xticklabels('')\n",
      "ax2.set_xticklabels(['Short\\nreads', 'HCT116\\nsynthetic\\nreads', \n",
      "                    'HepG2\\nsynthetic\\nreads'])\n",
      "#ax.set_yscale('log')\n",
      "ax.xaxis.set_ticks_position('none')\n",
      "ax.yaxis.set_ticks_position('none')\n",
      "ax2.xaxis.set_ticks_position('none')\n",
      "ax2.yaxis.set_ticks_position('none')\n",
      "\n",
      "ax.set_ylim(8,36)\n",
      "ax2.set_ylim(0,5)\n",
      "ax.spines['right'].set_visible(False)\n",
      "ax.spines['top'].set_visible(False)\n",
      "ax.spines['bottom'].set_visible(False)\n",
      "\n",
      "plt.setp(bp['whiskers'], linestyle='solid', color='black', linewidth=0.5)\n",
      "plt.setp(bp['fliers'], color='black')\n",
      "plt.setp(bp['caps'], color='black')\n",
      "colors = ['lightgrey', 'lightblue', 'steelblue']\n",
      "    \n",
      "ax2.spines['right'].set_visible(False)\n",
      "ax2.spines['top'].set_visible(False)\n",
      "plt.setp(bp2['whiskers'], linestyle='solid', color='black', linewidth=0.5)\n",
      "plt.setp(bp2['medians'], color='black')\n",
      "plt.setp(bp2['fliers'], color='black')\n",
      "plt.setp(bp2['caps'], color='black')\n",
      "for patch, color in zip(bp2['boxes'], colors):\n",
      "    patch.set_facecolor(color)\n",
      "\n",
      "#http://matplotlib.org/examples/pylab_examples/broken_axis.html    \n",
      "\n",
      "d = .015 # how big to make the diagonal lines in axes coordinates\n",
      "# arguments to pass plot, just so we don't keep repeating them\n",
      "kwargs = dict(transform=ax.transAxes, color='k', clip_on=False)\n",
      "ax.plot((-d,+d),(-d,+d), **kwargs) # top-left diagonal\n",
      "\n",
      "kwargs.update(transform=ax2.transAxes) # switch to the bottom axes\n",
      "ax2.plot((-d,+d),(1-d,1+d), **kwargs) # top-right diagonal\n",
      "\n",
      "fig.text(0.02, 0.55, \"Junctions spanned\", ha='center', va='center', rotation='vertical')\n",
      "plt.tight_layout()\n",
      "\n",
      "# Save the figure\n",
      "fig.show()\n",
      "#fig.savefig('boxplot.pdf', format='pdf')"
     ],
     "language": "python",
     "metadata": {},
     "outputs": [
      {
       "output_type": "stream",
       "stream": "stdout",
       "text": [
        "/Users/jimstapleton/Dropbox/Papers/Sequencing/Figures\n"
       ]
      },
      {
       "metadata": {},
       "output_type": "display_data",
       "png": "[encoded data removed]",
       "text": [
        "<matplotlib.figure.Figure at 0x10f34a050>"
       ]
      }
     ],
     "prompt_number": 122
    },
    {
     "cell_type": "code",
     "collapsed": false,
     "input": [
      "publishable = plotsettings.Set('Science')\n",
      "publishable.set_figsize(n_columns = 1, n_rows = 2)\n",
      "\n",
      "\n",
      "#http://nbviewer.ipython.org/gist/olgabot/5432378\n",
      "#http://blog.bharatbhole.com/creating-boxplots-with-matplotlib/\n",
      "\n",
      "data_to_plot = [short_junctions, HCT_long_junctions, Hep_long_junctions]\n",
      "fig = plt.figure()\n",
      "ax = fig.add_subplot(111)\n",
      "bp = ax.boxplot(data_to_plot, widths=.2, notch=True, patch_artist=True)\n",
      "ax.set_xticklabels(['Short\\nreads', 'HCT116\\nsynthetic\\nreads', \n",
      "                    'HepG2\\nsynthetic\\nreads'])\n",
      "ax.set_ylabel(\"Junctions spanned\")\n",
      "ax.xaxis.set_ticks_position('none')\n",
      "ax.yaxis.set_ticks_position('none')\n",
      "\n",
      "ax.set_ylim(0,36)\n",
      "ax.spines['right'].set_visible(False)\n",
      "ax.spines['top'].set_visible(False)\n",
      "\n",
      "plt.setp(bp['whiskers'], linestyle='solid', color='black', linewidth=0.5)\n",
      "plt.setp(bp['fliers'], color='black')\n",
      "plt.setp(bp['caps'], color='black')\n",
      "plt.setp(bp['medians'], color='black')\n",
      "\n",
      "colors = ['lightgrey', 'lightblue', 'steelblue']\n",
      "for patch, color in zip(bp['boxes'], colors):\n",
      "    patch.set_facecolor(color)\n",
      "\n",
      "plt.tight_layout()\n",
      "\n",
      "# Save the figure\n",
      "fig.show()\n",
      "#fig.savefig('boxplotv2.pdf', format='pdf')"
     ],
     "language": "python",
     "metadata": {},
     "outputs": [
      {
       "metadata": {},
       "output_type": "display_data",
       "png": "[encoded data removed]",
       "text": [
        "<matplotlib.figure.Figure at 0x11334fa90>"
       ]
      }
     ],
     "prompt_number": 324
    },
    {
     "cell_type": "heading",
     "level": 3,
     "metadata": {},
     "source": [
      "Figure 3a: Length distribution of Env and \n",
      "Figure 3b: Env discrimination"
     ]
    },
    {
     "cell_type": "code",
     "collapsed": false,
     "input": [
      "%cd ../Env\n",
      "\n",
      "Env_cleanlengths = []\n",
      "numClean = 0\n",
      "with open(\"unique_contig_lengths\", \"r\") as f:\n",
      "    for line in f:\n",
      "        if float(line) > 1000:\n",
      "            Env_cleanlengths.append(float(line))\n",
      "            numClean += 1\n",
      "print numClean, \"contigs longer than 1kb\""
     ],
     "language": "python",
     "metadata": {},
     "outputs": [
      {
       "output_type": "stream",
       "stream": "stdout",
       "text": [
        "/Users/jimstapleton/Dropbox/Papers/Sequencing/Github/Env\n",
        "1280 contigs longer than 1kb\n"
       ]
      }
     ],
     "prompt_number": 49
    },
    {
     "cell_type": "code",
     "collapsed": false,
     "input": [
      "%cd ../Env\n",
      "MajMatch = []\n",
      "with open(\"env1maxwRate\", \"r\") as f:\n",
      "    for line in f:\n",
      "        MajMatch.append(float(line))\n",
      "\n",
      "MinMatch = []\n",
      "with open(\"env2maxwRate\", \"r\") as f:\n",
      "    for line in f:\n",
      "        MinMatch.append(float(line))"
     ],
     "language": "python",
     "metadata": {},
     "outputs": [
      {
       "output_type": "stream",
       "stream": "stdout",
       "text": [
        "/Users/jimstapleton/Dropbox/Papers/Sequencing/Github/Env\n"
       ]
      }
     ],
     "prompt_number": 50
    },
    {
     "cell_type": "code",
     "collapsed": false,
     "input": [
      "%cd ../Env/\n",
      "MajMatchC1 = []\n",
      "with open(\"E1C1maxwRate\", \"r\") as f:\n",
      "    for line in f:\n",
      "        MajMatchC1.append(1-float(line))\n",
      "\n",
      "MinMatchC1 = []\n",
      "with open(\"E2C1maxwRate\", \"r\") as f:\n",
      "    for line in f:\n",
      "        MinMatchC1.append(1-float(line))\n",
      "    \n",
      "MajMatchC2 = []\n",
      "with open(\"E1C2maxwRate\", \"r\") as f:\n",
      "    for line in f:\n",
      "        MajMatchC2.append(1-float(line))\n",
      "\n",
      "MinMatchC2 = []\n",
      "with open(\"E2C2maxwRate\", \"r\") as f:\n",
      "    for line in f:\n",
      "        MinMatchC2.append(1-float(line))\n",
      "    \n",
      "MajMatchC3 = []\n",
      "with open(\"E1C3maxwRate\", \"r\") as f:\n",
      "    for line in f:\n",
      "        MajMatchC3.append(1-float(line))\n",
      "MinMatchC3 = []\n",
      "with open(\"E2C3maxwRate\", \"r\") as f:\n",
      "    for line in f:\n",
      "        MinMatchC3.append(1-float(line))"
     ],
     "language": "python",
     "metadata": {},
     "outputs": [
      {
       "output_type": "stream",
       "stream": "stdout",
       "text": [
        "/Users/jimstapleton/Dropbox/Papers/Sequencing/Github/Env\n"
       ]
      }
     ],
     "prompt_number": 51
    },
    {
     "cell_type": "code",
     "collapsed": false,
     "input": [
      "publishable = plotsettings.Set('Science')\n",
      "publishable.set_figsize(n_columns = 1, n_rows = 1)\n",
      "\n",
      "fig1, ax1 = plt.subplots()\n",
      "\n",
      "plt.hist(Env_cleanlengths, bins=20, color='lightgrey')\n",
      "plt.axis([0,4000,0,400])\n",
      "plt.xlabel(\"Synthetic read length (bp)\")\n",
      "plt.ylabel(\"Count\")\n",
      "ax1.spines['right'].set_visible(False)\n",
      "ax1.spines['top'].set_visible(False)\n",
      "ax1.xaxis.set_ticks_position('bottom')\n",
      "ax1.yaxis.set_ticks_position('left')\n",
      "plt.tick_params(axis='both', which='major', direction='out')\n",
      "plt.locator_params(nbins=4)\n",
      "plt.tight_layout()\n",
      "\n",
      "plt.show()\n",
      "#plt.savefig('Figure3a.pdf', format='pdf')"
     ],
     "language": "python",
     "metadata": {},
     "outputs": [
      {
       "output_type": "stream",
       "stream": "stdout",
       "text": [
        "/Users/jimstapleton/Dropbox/Papers/Sequencing/Figures\n"
       ]
      },
      {
       "metadata": {},
       "output_type": "display_data",
       "png": "[encoded data removed]",
       "text": [
        "<matplotlib.figure.Figure at 0x11be23c10>"
       ]
      }
     ],
     "prompt_number": 825
    },
    {
     "cell_type": "code",
     "collapsed": false,
     "input": [
      "publishable.set_figsize(n_columns = 2, aspect_ratio=1)\n",
      "\n",
      "\n",
      "fig, ax = plt.subplots()\n",
      "\n",
      "plt.plot(MajMatch, MinMatch, 'o', alpha=.03, mfc='None') # plots open circles to emphasize density\n",
      "plt.plot(MajMatchC1, MinMatchC1,'x', color='black') \n",
      "plt.plot(MajMatchC2, MinMatchC2,'x', color='black') \n",
      "plt.plot(MajMatchC3, MinMatchC3,'x', color='black') \n",
      "\n",
      "plt.xlabel(\"Env1 mismatch rate\")\n",
      "plt.ylabel(\"Env2 mismatch rate\")\n",
      "ax.spines['right'].set_visible(False)\n",
      "ax.spines['top'].set_visible(False)\n",
      "ax.xaxis.set_ticks_position('bottom')\n",
      "ax.yaxis.set_ticks_position('left')\n",
      "ax.set_aspect(\"equal\")\n",
      "plt.tick_params(axis='both', which='major', direction='out')\n",
      "plt.locator_params(nbins=4)\n",
      "\n",
      "plt.tight_layout()\n",
      "\n",
      "plt.show()\n",
      "#plt.savefig('Figure3c.pdf', format='pdf')"
     ],
     "language": "python",
     "metadata": {},
     "outputs": [
      {
       "metadata": {},
       "output_type": "display_data",
       "png": "[encoded data removed]",
       "text": [
        "<matplotlib.figure.Figure at 0x1100bbb10>"
       ]
      }
     ],
     "prompt_number": 679
    },
    {
     "cell_type": "code",
     "collapsed": false,
     "input": [
      "#http://stackoverflow.com/questions/14391959/heatmap-in-matplotlib-with-pcolor\n",
      "MajMatch = [1-match for match in MajMatch]\n",
      "MinMatch = [1-match for match in MinMatch]\n",
      "data = np.array((MajMatch, MinMatch), dtype=float)\n",
      "data = data.T\n",
      "sorteddata = data[data[:,1].argsort()]\n",
      "fig, ax = plt.subplots()\n",
      "heatmap = ax.pcolor(sorteddata, cmap=plt.cm.Greys)\n",
      "plt.axis('off')\n",
      "\n",
      "ax.invert_yaxis()\n",
      "ax.xaxis.tick_top()\n",
      "fig.set_size_inches(2, 3)\n",
      "\n",
      "ax.set_xticklabels(row_labels, minor=False)\n",
      "ax.set_yticklabels(column_labels, minor=False)\n",
      "cbar = plt.colorbar(heatmap)\n",
      "#plt.tight_layout()\n",
      "\n",
      "plt.show()\n",
      "#plt.savefig('env_colormap.pdf', format='pdf')"
     ],
     "language": "python",
     "metadata": {},
     "outputs": [
      {
       "output_type": "stream",
       "stream": "stdout",
       "text": [
        "/Users/jimstapleton/Dropbox/Papers/Sequencing/Figures\n"
       ]
      },
      {
       "metadata": {},
       "output_type": "display_data",
       "png": "[encoded data removed]",
       "text": [
        "<matplotlib.figure.Figure at 0x11be087d0>"
       ]
      }
     ],
     "prompt_number": 823
    },
    {
     "cell_type": "heading",
     "level": 3,
     "metadata": {},
     "source": [
      "Supplemental length histograms"
     ]
    },
    {
     "cell_type": "code",
     "collapsed": false,
     "input": [
      "# Potato\n",
      "\n",
      "%cd ../Potato/\n",
      "potato_contiglengths = []\n",
      "numContigs = 0\n",
      "with open(\"contig_lengths\", \"r\") as f:\n",
      "    for line in f:\n",
      "        if float(line) > 1000:\n",
      "            potato_contiglengths.append(float(line))\n",
      "            numContigs += 1\n",
      "print numContigs, \"longer than 1kb\""
     ],
     "language": "python",
     "metadata": {},
     "outputs": [
      {
       "output_type": "stream",
       "stream": "stdout",
       "text": [
        "/Users/jimstapleton/Dropbox/Papers/Sequencing/Github/Potato\n",
        "1509 longer than 1kb\n"
       ]
      }
     ],
     "prompt_number": 12
    },
    {
     "cell_type": "code",
     "collapsed": false,
     "input": [
      "# Potato\n",
      "\n",
      "%cd ../Potato/\n",
      "potato_contiglengths = []\n",
      "numContigs = 0\n",
      "with open(\"contig_lengths\", \"r\") as f:\n",
      "    for line in f:\n",
      "        if float(line) > 1000:\n",
      "            potato_contiglengths.append(float(line))\n",
      "            numContigs += 1\n",
      "print numContigs, \"longer than 1kb\""
     ],
     "language": "python",
     "metadata": {},
     "outputs": [
      {
       "output_type": "stream",
       "stream": "stdout",
       "text": [
        "/Users/jimstapleton/Dropbox/Papers/Sequencing/Github/Potato\n",
        "1509 longer than 1kb\n"
       ]
      }
     ],
     "prompt_number": 13
    },
    {
     "cell_type": "code",
     "collapsed": false,
     "input": [
      "sumLength = 0\n",
      "for contiglength in potato_contiglengths:\n",
      "    sumLength += contiglength\n",
      "\n",
      "N50sum = 0\n",
      "for contiglength in potato_contiglengths:\n",
      "    N50sum += contiglength\n",
      "    if N50sum/float(sumLength) > 0.5:\n",
      "        print \"N50 is\", contiglength\n",
      "        break"
     ],
     "language": "python",
     "metadata": {},
     "outputs": [
      {
       "output_type": "stream",
       "stream": "stdout",
       "text": [
        "N50 is 3279.0\n"
       ]
      }
     ],
     "prompt_number": 14
    },
    {
     "cell_type": "code",
     "collapsed": false,
     "input": [
      "# Gelsemium #2\n",
      "\n",
      "%cd ../Gelsemium2/\n",
      "JasmineR_contiglengths = []\n",
      "numContigs = 0\n",
      "with open(\"contig_lengths\", \"r\") as f:\n",
      "    for line in f:\n",
      "        if float(line) > 1000:\n",
      "            JasmineR_contiglengths.append(float(line))\n",
      "            numContigs += 1\n",
      "print numContigs, \"longer than 1kb\""
     ],
     "language": "python",
     "metadata": {},
     "outputs": [
      {
       "output_type": "stream",
       "stream": "stdout",
       "text": [
        "/Users/jimstapleton/Dropbox/Papers/Sequencing/Github/Gelsemium2\n",
        "28574 longer than 1kb\n"
       ]
      }
     ],
     "prompt_number": 29
    },
    {
     "cell_type": "code",
     "collapsed": false,
     "input": [
      "sumLength = 0\n",
      "for contiglength in JasmineR_contiglengths:\n",
      "    sumLength += contiglength\n",
      "\n",
      "N50sum = 0\n",
      "for contiglength in JasmineR_contiglengths:\n",
      "    N50sum += contiglength\n",
      "    if N50sum/float(sumLength) > 0.5:\n",
      "        print \"N50 is\", contiglength\n",
      "        break"
     ],
     "language": "python",
     "metadata": {},
     "outputs": [
      {
       "output_type": "stream",
       "stream": "stdout",
       "text": [
        "N50 is 2802.0\n"
       ]
      }
     ],
     "prompt_number": 27
    },
    {
     "cell_type": "code",
     "collapsed": false,
     "input": [
      "# Chicken\n",
      "\n",
      "%cd ../Chicken\n",
      "Chicken_contiglengths = []\n",
      "numContigs = 0\n",
      "with open(\"contig_lengths\", \"r\") as f:\n",
      "    for line in f:\n",
      "        if float(line) > 1000:\n",
      "            Chicken_contiglengths.append(float(line))\n",
      "            numContigs += 1\n",
      "print numContigs, \"longer than 1kb\""
     ],
     "language": "python",
     "metadata": {},
     "outputs": [
      {
       "output_type": "stream",
       "stream": "stdout",
       "text": [
        "/Users/jimstapleton/Dropbox/Papers/Sequencing/Github/Chicken\n",
        "146501"
       ]
      },
      {
       "output_type": "stream",
       "stream": "stdout",
       "text": [
        " longer than 1kb\n"
       ]
      }
     ],
     "prompt_number": 58
    },
    {
     "cell_type": "code",
     "collapsed": false,
     "input": [
      "sumLength = 0\n",
      "for contiglength in Chicken_contiglengths:\n",
      "    sumLength += contiglength\n",
      "\n",
      "N50sum = 0\n",
      "for contiglength in Chicken_contiglengths:\n",
      "    N50sum += contiglength\n",
      "    if N50sum/float(sumLength) > 0.5:\n",
      "        print \"N50 is\", contiglength\n",
      "        break"
     ],
     "language": "python",
     "metadata": {},
     "outputs": [
      {
       "output_type": "stream",
       "stream": "stdout",
       "text": [
        "N50 is 2051.0\n"
       ]
      }
     ],
     "prompt_number": 337
    },
    {
     "cell_type": "code",
     "collapsed": false,
     "input": [
      "publishable = plotsettings.Set('Science')\n",
      "publishable.set_figsize(n_columns = 2.5, n_rows = 1)\n",
      "\n",
      "fig, ax = plt.subplots()\n",
      "\n",
      "# Jasmine #2\n",
      "ax1 = plt.subplot(131)\n",
      "plt.hist(JasmineR_contiglengths, bins=30, color='lightgray')\n",
      "plt.axis([0,11000,0,10000])\n",
      "plt.xlabel(\"Synthetic read length (bp)\")\n",
      "plt.ylabel(\"Count\")\n",
      "plt.locator_params(nbins=3)\n",
      "ax1.spines['right'].set_visible(False)\n",
      "ax1.spines['top'].set_visible(False)\n",
      "ax1.xaxis.set_ticks_position('bottom')\n",
      "ax1.yaxis.set_ticks_position('left')\n",
      "plt.tick_params(axis='both', which='major', direction='out')\n",
      "\n",
      "\n",
      "# Chicken\n",
      "ax2 = plt.subplot(132)\n",
      "plt.hist(Chicken_contiglengths, bins=15, color='lightgray')\n",
      "plt.axis([0,11000,0,50000])\n",
      "plt.xlabel(\"Synthetic read length (bp)\")\n",
      "ax2.spines['right'].set_visible(False)\n",
      "ax2.spines['top'].set_visible(False)\n",
      "ax2.xaxis.set_ticks_position('bottom')\n",
      "ax2.yaxis.set_ticks_position('left')\n",
      "plt.tick_params(axis='both', which='major', direction='out')\n",
      "plt.locator_params(nbins=4)\n",
      "\n",
      "\n",
      "# Potato\n",
      "ax3 = plt.subplot(133)\n",
      "plt.hist(potato_contiglengths, bins=15, color='lightgray')\n",
      "plt.axis([0,11000,0,300])\n",
      "plt.xlabel(\"Synthetic read length (bp)\")\n",
      "plt.locator_params(nbins=4)\n",
      "ax3.spines['right'].set_visible(False)\n",
      "ax3.spines['top'].set_visible(False)\n",
      "ax3.xaxis.set_ticks_position('bottom')\n",
      "ax3.yaxis.set_ticks_position('left')\n",
      "plt.tick_params(axis='both', which='major', direction='out')\n",
      "\n",
      "plt.tight_layout()\n",
      "plt.show()\n",
      "#plt.savefig('supplemental_contigLengthHistogram.pdf', format='pdf')"
     ],
     "language": "python",
     "metadata": {},
     "outputs": [
      {
       "output_type": "stream",
       "stream": "stdout",
       "text": [
        "/Users/jimstapleton/Dropbox/Papers/Sequencing/Figures\n"
       ]
      },
      {
       "metadata": {},
       "output_type": "display_data",
       "png": "[encoded data removed]",
       "text": [
        "<matplotlib.figure.Figure at 0x10fe66090>"
       ]
      }
     ],
     "prompt_number": 60
    },
    {
     "cell_type": "heading",
     "level": 3,
     "metadata": {},
     "source": [
      "Figure SX: Barcode frequency histogram for Jasmine"
     ]
    },
    {
     "cell_type": "code",
     "collapsed": false,
     "input": [
      "%cd ../Gelsemium/\n",
      "data = []\n",
      "complexityBottleneck = 0\n",
      "with open(\"histogram.txt\", \"r\") as f:\n",
      "    for line in f:\n",
      "        data.append(float(line))\n",
      "        complexityBottleneck += 1"
     ],
     "language": "python",
     "metadata": {},
     "outputs": [
      {
       "output_type": "stream",
       "stream": "stdout",
       "text": [
        "/Users/jimstapleton/Dropbox/Papers/Sequencing/Github/Gelsemium\n"
       ]
      }
     ],
     "prompt_number": 52
    },
    {
     "cell_type": "code",
     "collapsed": false,
     "input": [
      "publishable = plotsettings.Set('Science')\n",
      "publishable.set_figsize(3, 2) \n",
      "\n",
      "\n",
      "width = .1\n",
      "data = sorted(data)\n",
      "ind = np.arange(len(data))\n",
      "\n",
      "fig, ax = plt.subplots()\n",
      "\n",
      "ax1 = plt.subplot(121)\n",
      "plt.bar(ind, data, log=1)\n",
      "plt.xlabel(\"Barcode\")\n",
      "plt.ylabel(\"Number of reads\")\n",
      "ax1.spines['right'].set_visible(False)\n",
      "ax1.spines['top'].set_visible(False)\n",
      "ax1.xaxis.set_ticks_position('bottom')\n",
      "ax1.yaxis.set_ticks_position('left')\n",
      "plt.tick_params(axis='both', which='major', direction='out')\n",
      "\n",
      "ax2 = plt.subplot(122)\n",
      "plt.hist(data, 1000, normed=1, histtype='step', cumulative=True)\n",
      "plt.xlabel(\"Number of reads\")\n",
      "plt.ylabel(\"Fraction of barcodes\")\n",
      "plt.axis([0,12000,0,1])\n",
      "ax.spines['right'].set_visible(False)\n",
      "ax.spines['top'].set_visible(False)\n",
      "ax.xaxis.set_ticks_position('bottom')\n",
      "ax.yaxis.set_ticks_position('left')\n",
      "plt.tick_params(axis='both', which='major', direction='out')\n",
      "\n",
      "plt.tight_layout()\n",
      "plt.show()\n",
      "#plt.savefig('Jasmine_barcodeFreqHistogram.pdf', format='pdf')"
     ],
     "language": "python",
     "metadata": {},
     "outputs": [
      {
       "output_type": "stream",
       "stream": "stdout",
       "text": [
        "/Users/jimstapleton/Dropbox/Papers/Sequencing/Figures\n"
       ]
      },
      {
       "metadata": {},
       "output_type": "display_data",
       "png": "[encoded data removed]",
       "text": [
        "<matplotlib.figure.Figure at 0x102d5f850>"
       ]
      }
     ],
     "prompt_number": 53
    }
   ],
   "metadata": {}
  }
 ]
}