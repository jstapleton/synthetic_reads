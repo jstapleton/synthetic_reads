{
 "cells": [
  {
   "cell_type": "code",
   "execution_count": 2,
   "metadata": {
    "collapsed": false
   },
   "outputs": [],
   "source": [
    "%matplotlib inline"
   ]
  },
  {
   "cell_type": "code",
   "execution_count": 3,
   "metadata": {
    "collapsed": false
   },
   "outputs": [],
   "source": [
    "import matplotlib.pyplot as plt\n",
    "import numpy as np\n",
    "import plotsettings"
   ]
  },
  {
   "cell_type": "markdown",
   "metadata": {},
   "source": [
    "### Figure 1c,d,e,f"
   ]
  },
  {
   "cell_type": "markdown",
   "metadata": {},
   "source": [
    "#### E. coli MG1655, 1-file barcode pairing"
   ]
  },
  {
   "cell_type": "code",
   "execution_count": 37,
   "metadata": {
    "collapsed": false
   },
   "outputs": [
    {
     "name": "stdout",
     "output_type": "stream",
     "text": [
      "/Users/jimstapleton/Dropbox/Papers/Sequencing/Github/MG1655\n",
      "2878 longer than 1kb\n"
     ]
    }
   ],
   "source": [
    "%cd ../MG1655\n",
    "Ecoli_contiglengths = []\n",
    "numContigs = 0\n",
    "with open(\"contig_lengths\", \"r\") as f:\n",
    "    for line in f:\n",
    "        if float(line) > 1000:\n",
    "            Ecoli_contiglengths.append(float(line))\n",
    "            numContigs += 1\n",
    "print numContigs, \"longer than 1kb\""
   ]
  },
  {
   "cell_type": "code",
   "execution_count": 38,
   "metadata": {
    "collapsed": false
   },
   "outputs": [
    {
     "name": "stdout",
     "output_type": "stream",
     "text": [
      "N50 is 5980.0\n"
     ]
    }
   ],
   "source": [
    "sumLength = 0\n",
    "for contiglength in Ecoli_contiglengths:\n",
    "    sumLength += contiglength\n",
    "\n",
    "N50sum = 0\n",
    "for contiglength in Ecoli_contiglengths:\n",
    "    N50sum += contiglength\n",
    "    if N50sum/float(sumLength) > 0.5:\n",
    "        print \"N50 is\", contiglength\n",
    "        break"
   ]
  },
  {
   "cell_type": "code",
   "execution_count": 40,
   "metadata": {
    "collapsed": false
   },
   "outputs": [
    {
     "name": "stdout",
     "output_type": "stream",
     "text": [
      "The complexity is 2792\n"
     ]
    }
   ],
   "source": [
    "data = []\n",
    "with open(\"histogram.txt\", \"r\") as f:\n",
    "    for line in f:\n",
    "        data.append(float(line))\n",
    "print \"The complexity is\", len(data)"
   ]
  },
  {
   "cell_type": "markdown",
   "metadata": {},
   "source": [
    "### Mismatch rate calculation"
   ]
  },
  {
   "cell_type": "code",
   "execution_count": 46,
   "metadata": {
    "collapsed": false
   },
   "outputs": [
    {
     "name": "stdout",
     "output_type": "stream",
     "text": [
      "/Users/jimstapleton/Dropbox/Papers/Sequencing/Github/MG1655\n",
      "Alignment Matches = 10162249\n",
      "Mismatches = 3897\n",
      "Deletions = 545\n",
      "Insertions = 23\n",
      "N = 0\n",
      "Softclip = 276021\n",
      "Hardclip = 929840\n",
      "Totalclip = 1205861\n",
      "Padding = 0\n",
      "0.0225814729279 0.250705671029 0.0628688734924\n",
      "0.0272004105722 0.0153964588145 0.108545034642\n",
      "0.104952527585 0.0128303823454 0.0266871952784\n",
      "0.052861175263 0.292019502181 0.0192455735181\n",
      "3881\n",
      "Transition sum = 0.756222735438\n",
      "Total bases aligned = 10162817\n",
      "Fraction clipped = 0.106068709132\n",
      "Accuracy without clipping = 0.893538545115\n",
      "Accuracy with clipping = 0.999560653311\n",
      "Mismatch rate = 0.000383456673479\n",
      "Insertion rate = 2.26315203747e-06\n",
      "Deletion rate = 5.36268634966e-05\n",
      "Number of aligned sequences = 4769\n"
     ]
    }
   ],
   "source": [
    "# Parse the cigar and MD fields of the alignment SAM file to calculate percent identity\n",
    "\n",
    "%cd ../MG1655\n",
    "Match = 0\n",
    "Softclip = 0\n",
    "Mismatch = 0\n",
    "Deletion = 0\n",
    "Insertion = 0\n",
    "N = 0\n",
    "Hardclip = 0\n",
    "Padding = 0\n",
    "AC = 0\n",
    "AG = 0\n",
    "AT = 0\n",
    "CA = 0\n",
    "CG = 0\n",
    "CT = 0\n",
    "GA = 0\n",
    "GC = 0\n",
    "GT = 0\n",
    "TA = 0\n",
    "TC = 0\n",
    "TG = 0\n",
    "mismatchPositions = []\n",
    "alignedSequences = 0\n",
    "insertionPositions = []\n",
    "deletionPositions = []\n",
    "insertionRelativePositions = []\n",
    "deletionRelativePositions = []\n",
    "\n",
    "def is_number(s):\n",
    "    '''http://stackoverflow.com/questions/354038/how-do-i-check-if-a-string-is-a-number-in-python'''\n",
    "    try:\n",
    "        int(s)\n",
    "        return True\n",
    "    except ValueError:\n",
    "        return False\n",
    "    \n",
    "def magic(numList):\n",
    "    '''http://stackoverflow.com/questions/489999/python-convert-list-of-ints-to-one-number'''\n",
    "    s = ''.join(map(str, numList))\n",
    "    return int(s)\n",
    "\n",
    "with open('filteredalignMG1655.sam', 'r') as datafile:\n",
    "    for line in datafile:\n",
    "        alignedSequences += 1\n",
    "        fields = line.split()\n",
    "        if fields[0][:4] == 'NODE':\n",
    "            \n",
    "            # parse the cigar field to find number of matches, indels, etc\n",
    "            cigar = fields[5]\n",
    "            buildNum = []\n",
    "            currentPosition = 0 \n",
    "            startSoft = 0\n",
    "            for char in cigar:\n",
    "                if is_number(char):\n",
    "                    buildNum.append(char)\n",
    "                elif char == 'M':\n",
    "                    Match += magic(buildNum)         # this is matches + mismatches = alignment matches\n",
    "                    currentPosition += magic(buildNum)\n",
    "                    buildNum = []\n",
    "                elif char == 'S':\n",
    "                    Softclip += magic(buildNum)\n",
    "                    # keep track of soft clipping at the start of a read\n",
    "                    if currentPosition == 0:\n",
    "                        startSoft = magic(buildNum)\n",
    "                    buildNum = []\n",
    "                elif char == 'N':\n",
    "                    N += magic(buildNum)\n",
    "                    buildNum = []         \n",
    "                elif char == 'H':\n",
    "                    Hardclip += magic(buildNum)\n",
    "                    buildNum = []  \n",
    "                elif char == 'P':\n",
    "                    Padding += magic(buildNum)\n",
    "                    buildNum = [] \n",
    "                elif char == 'D':\n",
    "                    Deletion += magic(buildNum)\n",
    "                    for i in xrange(magic(buildNum)):\n",
    "                        deletionPositions.append(currentPosition)\n",
    "                    buildNum = []  \n",
    "                elif char == 'I':\n",
    "                    Insertion += magic(buildNum)\n",
    "                    for i in xrange(magic(buildNum)):\n",
    "                        insertionPositions.append(currentPosition)\n",
    "                        currentPosition += 1\n",
    "                    buildNum = []\n",
    "            totalLength = currentPosition\n",
    "            \n",
    "            for position in insertionPositions:\n",
    "                insertionRelativePositions.append(float(position)/totalLength)\n",
    "            for position in deletionPositions:\n",
    "                deletionRelativePositions.append(float(position)/totalLength)                \n",
    "\n",
    "                    \n",
    "            # parse the MD:Z field for mismatches, \n",
    "            # deletions are marked with ^, insertions aren't recorded\n",
    "            MD = fields[12]\n",
    "            deleteflag = 0\n",
    "            buildNum = []\n",
    "            currentPosition = startSoft\n",
    "            for char in MD[5:]: # skip the fixed MD:Z: start\n",
    "                if deleteflag:\n",
    "                    if is_number(char): \n",
    "                        deleteflag = 0 # --> start of next range, reset\n",
    "                        buildNum.append(char)                       \n",
    "                elif char == '^': # marks a deletion\n",
    "                    deleteflag = 1\n",
    "                    currentPosition += magic(buildNum)\n",
    "                    buildNum = []\n",
    "                elif not is_number(char):\n",
    "                    Mismatch += 1\n",
    "                    currentPosition += magic(buildNum)+1\n",
    "                    mismatchRelativePosition = (currentPosition-startSoft)/float(totalLength)\n",
    "                    mismatchPositions.append(mismatchRelativePosition)\n",
    "                    buildNum = []\n",
    "                    newBase = fields[9][currentPosition-1]\n",
    "                    originalBase = char\n",
    "                    if originalBase == 'A':\n",
    "                        if newBase == 'C':\n",
    "                            AC += 1\n",
    "                        elif newBase == 'G':\n",
    "                            AG += 1\n",
    "                        elif newBase == 'T':\n",
    "                            AT += 1    \n",
    "                    if originalBase == 'C':\n",
    "                        if newBase == 'A':\n",
    "                            CA += 1\n",
    "                        elif newBase == 'G':\n",
    "                            CG += 1\n",
    "                        elif newBase == 'T':\n",
    "                            CT += 1\n",
    "                    if originalBase == 'G':\n",
    "                        if newBase == 'A':\n",
    "                            GA += 1\n",
    "                        elif newBase == 'C':\n",
    "                            GC += 1\n",
    "                        elif newBase == 'T':\n",
    "                            GT += 1                        \n",
    "                    if originalBase == 'T':\n",
    "                        if newBase == 'A':\n",
    "                            TA += 1\n",
    "                        elif newBase == 'C':\n",
    "                            TC += 1\n",
    "                        elif newBase == 'G':\n",
    "                            TG += 1                          \n",
    "                else:\n",
    "                    buildNum.append(char)\n",
    "                    \n",
    "            insertionPositions = []\n",
    "            deletionPositions = []\n",
    "\n",
    "\n",
    "        \n",
    "print 'Alignment Matches =', Match\n",
    "print 'Mismatches =', Mismatch\n",
    "print 'Deletions =', Deletion\n",
    "print 'Insertions =', Insertion\n",
    "print 'N =', N\n",
    "print 'Softclip =', Softclip\n",
    "print 'Hardclip =', Hardclip\n",
    "print 'Totalclip =', Softclip + Hardclip\n",
    "print 'Padding =', Padding\n",
    "\n",
    "print AC/float(Mismatch), AG/float(Mismatch), AT/float(Mismatch)\n",
    "print CA/float(Mismatch), CG/float(Mismatch), CT/float(Mismatch)\n",
    "print GA/float(Mismatch), GC/float(Mismatch), GT/float(Mismatch)\n",
    "print TA/float(Mismatch), TC/float(Mismatch), TG/float(Mismatch)\n",
    "print AC+AG+AT+ CA+CG+CT+ GA+ GC+ GT+ TA+ TC+ TG\n",
    "print \"Transition sum =\", (CT+TC+AG+GA)/float(Mismatch)\n",
    "\n",
    "\n",
    "print 'Total bases aligned =', (Match+Deletion+Insertion)\n",
    "print 'Fraction clipped =', float(Softclip+Hardclip)/(Softclip+Hardclip+Match+Deletion+Insertion)\n",
    "print 'Accuracy without clipping =', 1-float(Mismatch+Deletion+Insertion+Softclip+Hardclip)/(Match+Deletion+Insertion+Softclip+Hardclip)\n",
    "print 'Accuracy with clipping =', 1-float(Mismatch+Deletion+Insertion)/(Match+Deletion+Insertion)\n",
    "print 'Mismatch rate =', float(Mismatch)/(Match+Deletion+Insertion)\n",
    "print 'Insertion rate =', float(Insertion)/(Match+Deletion+Insertion) \n",
    "print 'Deletion rate =', float(Deletion)/(Match+Deletion+Insertion) \n",
    "\n",
    "print 'Number of aligned sequences =', alignedSequences"
   ]
  },
  {
   "cell_type": "markdown",
   "metadata": {},
   "source": [
    "#### Mismatch rate of reads with 100 bp trimmed from each end"
   ]
  },
  {
   "cell_type": "code",
   "execution_count": 329,
   "metadata": {
    "collapsed": false
   },
   "outputs": [
    {
     "name": "stdout",
     "output_type": "stream",
     "text": [
      "/Users/jimstapleton/NGS/140502HiSeq/final/P20EM4/singleFileNoFlashUseFwdUn\n",
      "Alignment Matches = 9733945\n",
      "Mismatches = 3076\n",
      "Deletions = 518\n",
      "Insertions = 20\n",
      "N = 0\n",
      "Softclip = 239825\n",
      "Hardclip = 496929\n",
      "Totalclip = 736754\n",
      "Padding = 0\n",
      "0.018855656697 0.250325097529 0.0614434330299\n",
      "0.0217815344603 0.0113784135241 0.115084525358\n",
      "0.106306892068 0.0107282184655 0.0227568270481\n",
      "0.0481144343303 0.31144343303 0.0169050715215\n",
      "3061\n",
      "Transition sum = 0.783159947984\n",
      "Total bases aligned = 9734483\n",
      "Fraction clipped = 0.0703597865276\n",
      "Accuracy with clipping = 0.929295077554\n",
      "Accuracy without clipping = 0.999628742482\n",
      "Mismatch rate = 0.000315990073638\n",
      "Insertion rate = 2.0545518442e-06\n",
      "Deletion rate = 5.32128927648e-05\n",
      "Number of aligned sequences = 2410\n"
     ]
    }
   ],
   "source": [
    "# Parse the cigar and MD fields of the alignment SAM file to calculate percent identity\n",
    "\n",
    "%cd ../MG1655\n",
    "Match = 0\n",
    "Softclip = 0\n",
    "Mismatch = 0\n",
    "Deletion = 0\n",
    "Insertion = 0\n",
    "N = 0\n",
    "Hardclip = 0\n",
    "Padding = 0\n",
    "AC = 0\n",
    "AG = 0\n",
    "AT = 0\n",
    "CA = 0\n",
    "CG = 0\n",
    "CT = 0\n",
    "GA = 0\n",
    "GC = 0\n",
    "GT = 0\n",
    "TA = 0\n",
    "TC = 0\n",
    "TG = 0\n",
    "mismatchPositions = []\n",
    "alignedSequences = 0\n",
    "insertionPositions = []\n",
    "deletionPositions = []\n",
    "insertionRelativePositions = []\n",
    "deletionRelativePositions = []\n",
    "\n",
    "def is_number(s):\n",
    "    '''http://stackoverflow.com/questions/354038/how-do-i-check-if-a-string-is-a-number-in-python'''\n",
    "    try:\n",
    "        int(s)\n",
    "        return True\n",
    "    except ValueError:\n",
    "        return False\n",
    "    \n",
    "def magic(numList):\n",
    "    '''http://stackoverflow.com/questions/489999/python-convert-list-of-ints-to-one-number'''\n",
    "    s = ''.join(map(str, numList))\n",
    "    return int(s)\n",
    "\n",
    "with open('tfalignMG1655.sam', 'r') as datafile:\n",
    "    for line in datafile:\n",
    "        alignedSequences += 1\n",
    "        fields = line.split()\n",
    "        if fields[0][:4] == 'NODE':\n",
    "            \n",
    "            # parse the cigar field to find number of matches, indels, etc\n",
    "            cigar = fields[5]\n",
    "            buildNum = []\n",
    "            currentPosition = 0 \n",
    "            startSoft = 0\n",
    "            for char in cigar:\n",
    "                if is_number(char):\n",
    "                    buildNum.append(char)\n",
    "                elif char == 'M':\n",
    "                    Match += magic(buildNum)         # this is matches + mismatches = alignment matches\n",
    "                    currentPosition += magic(buildNum)\n",
    "                    buildNum = []\n",
    "                elif char == 'S':\n",
    "                    Softclip += magic(buildNum)\n",
    "                    # keep track of soft clipping at the start of a read\n",
    "                    if currentPosition == 0:\n",
    "                        startSoft = magic(buildNum)\n",
    "                    buildNum = []\n",
    "                elif char == 'N':\n",
    "                    N += magic(buildNum)\n",
    "                    buildNum = []         \n",
    "                elif char == 'H':\n",
    "                    Hardclip += magic(buildNum)\n",
    "                    buildNum = []  \n",
    "                elif char == 'P':\n",
    "                    Padding += magic(buildNum)\n",
    "                    buildNum = [] \n",
    "                elif char == 'D':\n",
    "                    Deletion += magic(buildNum)\n",
    "                    for i in xrange(magic(buildNum)):\n",
    "                        deletionPositions.append(currentPosition)\n",
    "                    buildNum = []  \n",
    "                elif char == 'I':\n",
    "                    Insertion += magic(buildNum)\n",
    "                    for i in xrange(magic(buildNum)):\n",
    "                        insertionPositions.append(currentPosition)\n",
    "                        currentPosition += 1\n",
    "                    buildNum = []\n",
    "            totalLength = currentPosition\n",
    "            \n",
    "            for position in insertionPositions:\n",
    "                insertionRelativePositions.append(float(position)/totalLength)\n",
    "            for position in deletionPositions:\n",
    "                deletionRelativePositions.append(float(position)/totalLength)                \n",
    "\n",
    "                    \n",
    "            # parse the MD:Z field for mismatches, \n",
    "            # deletions are marked with ^, insertions aren't recorded\n",
    "            MD = fields[12]\n",
    "            deleteflag = 0\n",
    "            buildNum = []\n",
    "            currentPosition = startSoft\n",
    "            for char in MD[5:]: # skip the fixed MD:Z: start\n",
    "                if deleteflag:\n",
    "                    if is_number(char): \n",
    "                        deleteflag = 0 # --> start of next range, reset\n",
    "                        buildNum.append(char)                       \n",
    "                elif char == '^': # marks a deletion\n",
    "                    deleteflag = 1\n",
    "                    currentPosition += magic(buildNum)\n",
    "                    buildNum = []\n",
    "                elif not is_number(char):\n",
    "                    Mismatch += 1\n",
    "                    currentPosition += magic(buildNum)+1\n",
    "                    mismatchRelativePosition = (currentPosition-startSoft)/float(totalLength)\n",
    "                    mismatchPositions.append(mismatchRelativePosition)\n",
    "                    buildNum = []\n",
    "                    newBase = fields[9][currentPosition-1]\n",
    "                    originalBase = char\n",
    "                    if originalBase == 'A':\n",
    "                        if newBase == 'C':\n",
    "                            AC += 1\n",
    "                        elif newBase == 'G':\n",
    "                            AG += 1\n",
    "                        elif newBase == 'T':\n",
    "                            AT += 1    \n",
    "                    if originalBase == 'C':\n",
    "                        if newBase == 'A':\n",
    "                            CA += 1\n",
    "                        elif newBase == 'G':\n",
    "                            CG += 1\n",
    "                        elif newBase == 'T':\n",
    "                            CT += 1\n",
    "                    if originalBase == 'G':\n",
    "                        if newBase == 'A':\n",
    "                            GA += 1\n",
    "                        elif newBase == 'C':\n",
    "                            GC += 1\n",
    "                        elif newBase == 'T':\n",
    "                            GT += 1                        \n",
    "                    if originalBase == 'T':\n",
    "                        if newBase == 'A':\n",
    "                            TA += 1\n",
    "                        elif newBase == 'C':\n",
    "                            TC += 1\n",
    "                        elif newBase == 'G':\n",
    "                            TG += 1                          \n",
    "                else:\n",
    "                    buildNum.append(char)\n",
    "                    \n",
    "            insertionPositions = []\n",
    "            deletionPositions = []\n",
    "\n",
    "\n",
    "        \n",
    "print 'Alignment Matches =', Match\n",
    "print 'Mismatches =', Mismatch\n",
    "print 'Deletions =', Deletion\n",
    "print 'Insertions =', Insertion\n",
    "print 'N =', N\n",
    "print 'Softclip =', Softclip\n",
    "print 'Hardclip =', Hardclip\n",
    "print 'Totalclip =', Softclip + Hardclip\n",
    "print 'Padding =', Padding\n",
    "\n",
    "print AC/float(Mismatch), AG/float(Mismatch), AT/float(Mismatch)\n",
    "print CA/float(Mismatch), CG/float(Mismatch), CT/float(Mismatch)\n",
    "print GA/float(Mismatch), GC/float(Mismatch), GT/float(Mismatch)\n",
    "print TA/float(Mismatch), TC/float(Mismatch), TG/float(Mismatch)\n",
    "print AC+AG+AT+ CA+CG+CT+ GA+ GC+ GT+ TA+ TC+ TG\n",
    "print \"Transition sum =\", (CT+TC+AG+GA)/float(Mismatch)\n",
    "\n",
    "\n",
    "print 'Total bases aligned =', (Match+Deletion+Insertion)\n",
    "print 'Fraction clipped =', float(Softclip+Hardclip)/(Softclip+Hardclip+Match+Deletion+Insertion)\n",
    "print 'Accuracy without clipping =', 1-float(Mismatch+Deletion+Insertion+Softclip+Hardclip)/(Match+Deletion+Insertion+Softclip+Hardclip)\n",
    "print 'Accuracy with clipping =', 1-float(Mismatch+Deletion+Insertion)/(Match+Deletion+Insertion)\n",
    "print 'Mismatch rate =', float(Mismatch)/(Match+Deletion+Insertion)\n",
    "print 'Insertion rate =', float(Insertion)/(Match+Deletion+Insertion) \n",
    "print 'Deletion rate =', float(Deletion)/(Match+Deletion+Insertion) \n",
    "\n",
    "print 'Number of aligned sequences =', alignedSequences"
   ]
  },
  {
   "cell_type": "code",
   "execution_count": 47,
   "metadata": {
    "collapsed": false
   },
   "outputs": [
    {
     "data": {
      "image/png": "[encoded data removed]",
      "text/plain": [
       "<matplotlib.figure.Figure at 0x1110b6d10>"
      ]
     },
     "metadata": {},
     "output_type": "display_data"
    }
   ],
   "source": [
    "publishable = plotsettings.Set('Science') \n",
    "publishable.set_figsize(n_columns = 1.5, n_rows = 2)\n",
    "\n",
    "labelx = -0.3\n",
    "\n",
    "fig, ax = plt.subplots()\n",
    "\n",
    "ax2 = plt.subplot(211)\n",
    "numBins = 20\n",
    "averageLength = (Match+Deletion+Insertion)/alignedSequences\n",
    "binSize = averageLength/numBins\n",
    "scaleToErrorRate = np.ones_like(insertionRelativePositions)/(binSize*alignedSequences)*100\n",
    "plt.hist(insertionRelativePositions, weights=scaleToErrorRate, bins=numBins, color='lightgray')\n",
    "ax2.set_ylabel(\"Insertion rate (%)\")\n",
    "plt.locator_params(nbins=4)\n",
    "ax2.spines['top'].set_visible(False)\n",
    "ax2.xaxis.set_ticks_position('bottom')\n",
    "ax2.yaxis.set_ticks_position('left')\n",
    "ax2.get_yaxis().set_label_coords(labelx, 0.5)\n",
    "ax2.tick_params(axis='both', which='major', direction='out')\n",
    "\n",
    "\n",
    "ax3 = plt.subplot(212)\n",
    "numBins = 20\n",
    "averageLength = (Match+Deletion+Insertion)/alignedSequences\n",
    "binSize = averageLength/numBins\n",
    "scaleToErrorRate = np.ones_like(deletionRelativePositions)/(binSize*alignedSequences)*100\n",
    "plt.hist(deletionRelativePositions, weights=scaleToErrorRate, bins=numBins, color='lightgray')\n",
    "ax3.set_xlabel(\"Relative position\")\n",
    "ax3.set_ylabel(\"Deletion rate (%)\")\n",
    "plt.locator_params(nbins=3)\n",
    "ax3.spines['top'].set_visible(False)\n",
    "ax3.xaxis.set_ticks_position('bottom')\n",
    "ax3.yaxis.set_ticks_position('left')\n",
    "ax3.get_yaxis().set_label_coords(labelx, 0.5)\n",
    "ax3.tick_params(axis='both', which='major', direction='out')\n",
    "\n",
    "\n",
    "plt.tight_layout()\n",
    "plt.show()\n",
    "#plt.savefig('ErrorPofile.pdf', format='pdf')"
   ]
  },
  {
   "cell_type": "markdown",
   "metadata": {},
   "source": [
    "#### Jasmine length distribution"
   ]
  },
  {
   "cell_type": "code",
   "execution_count": 30,
   "metadata": {
    "collapsed": false
   },
   "outputs": [
    {
     "name": "stdout",
     "output_type": "stream",
     "text": [
      "/Users/jimstapleton/Dropbox/Papers/Sequencing/Github/Gelsemium\n",
      "111054 longer than 1.5 kb\n"
     ]
    }
   ],
   "source": [
    "%cd ../Gelsemium/\n",
    "Jasmine_contiglengths = []\n",
    "numContigs = 0\n",
    "with open(\"contig_lengths\", \"r\") as f:\n",
    "    for line in f:\n",
    "        if float(line) > 1500:\n",
    "            Jasmine_contiglengths.append(float(line))\n",
    "            numContigs += 1\n",
    "print numContigs, \"longer than 1.5 kb\""
   ]
  },
  {
   "cell_type": "code",
   "execution_count": 31,
   "metadata": {
    "collapsed": false
   },
   "outputs": [
    {
     "name": "stdout",
     "output_type": "stream",
     "text": [
      "N50 is 4251.0\n"
     ]
    }
   ],
   "source": [
    "sumLength = 0\n",
    "for contiglength in Jasmine_contiglengths:\n",
    "    sumLength += contiglength\n",
    "\n",
    "N50sum = 0\n",
    "for contiglength in Jasmine_contiglengths:\n",
    "    N50sum += contiglength\n",
    "    if N50sum/float(sumLength) > 0.5:\n",
    "        print \"N50 is\", contiglength\n",
    "        break"
   ]
  },
  {
   "cell_type": "code",
   "execution_count": 32,
   "metadata": {
    "collapsed": false
   },
   "outputs": [
    {
     "name": "stdout",
     "output_type": "stream",
     "text": [
      "149447 longer than 1 kb\n"
     ]
    }
   ],
   "source": [
    "Jasmine_contiglengths = []\n",
    "numContigs = 0\n",
    "with open(\"contig_lengths\", \"r\") as f:\n",
    "    for line in f:\n",
    "        if float(line) > 1000:\n",
    "            Jasmine_contiglengths.append(float(line))\n",
    "            numContigs += 1\n",
    "print numContigs, \"longer than 1 kb\""
   ]
  },
  {
   "cell_type": "code",
   "execution_count": 33,
   "metadata": {
    "collapsed": false
   },
   "outputs": [
    {
     "name": "stdout",
     "output_type": "stream",
     "text": [
      "N50 is 3936.0\n"
     ]
    }
   ],
   "source": [
    "sumLength = 0\n",
    "for contiglength in Jasmine_contiglengths:\n",
    "    sumLength += contiglength\n",
    "\n",
    "N50sum = 0\n",
    "for contiglength in Jasmine_contiglengths:\n",
    "    N50sum += contiglength\n",
    "    if N50sum/float(sumLength) > 0.5:\n",
    "        print \"N50 is\", contiglength\n",
    "        break"
   ]
  },
  {
   "cell_type": "code",
   "execution_count": 48,
   "metadata": {
    "collapsed": false
   },
   "outputs": [
    {
     "data": {
      "image/png": "[encoded data removed]",
      "text/plain": [
       "<matplotlib.figure.Figure at 0x110db5650>"
      ]
     },
     "metadata": {},
     "output_type": "display_data"
    }
   ],
   "source": [
    "publishable = plotsettings.Set('Science')\n",
    "publishable.set_figsize(n_columns = 1, n_rows = 2.5)\n",
    "\n",
    "fig, ax = plt.subplots()\n",
    "plt.subplots_adjust(hspace = 2)\n",
    "\n",
    "labelx = -0.4\n",
    "\n",
    "ax1 = plt.subplot(311)\n",
    "ECplotlengths = [contiglength/(float(1000)) for contiglength in Ecoli_contiglengths]\n",
    "plt.hist(ECplotlengths, bins=25, color='darkorange')\n",
    "plt.axis([0,11,0,600])\n",
    "plt.xlabel(\"Synthetic read length (kb)\")\n",
    "plt.ylabel(\"Count\")\n",
    "ax1.spines['right'].set_visible(False)\n",
    "ax1.spines['top'].set_visible(False)\n",
    "ax1.xaxis.set_ticks_position('bottom')\n",
    "ax1.yaxis.set_ticks_position('left')\n",
    "plt.locator_params(nbins=4)\n",
    "plt.tick_params(axis='both', which='major', direction='out')\n",
    "ax1.yaxis.set_label_coords(labelx, 0.5)\n",
    "\n",
    "\n",
    "ax2 = plt.subplot(312)\n",
    "numBins = 20\n",
    "averageLength = (Match+Deletion+Insertion)/alignedSequences\n",
    "binSize = averageLength/numBins\n",
    "scaleToErrorRate = np.ones_like(mismatchPositions)/(binSize*alignedSequences)*100\n",
    "plt.hist(mismatchPositions, weights=scaleToErrorRate, bins=numBins, color='darkorange')\n",
    "ax1.get_yaxis().set_label_coords(labelx, 0.5)\n",
    "plt.axis([0,1,0,0.15])\n",
    "plt.xlabel(\"Relative positon\")\n",
    "plt.ylabel(\"Mismatch\\nrate (%)\")\n",
    "plt.locator_params(nbins=2)\n",
    "ax2.spines['right'].set_visible(False)\n",
    "ax2.spines['top'].set_visible(False)\n",
    "ax2.xaxis.set_ticks_position('bottom')\n",
    "ax2.yaxis.set_ticks_position('left')\n",
    "plt.tick_params(axis='both', which='major', direction='out')\n",
    "ax2.yaxis.set_label_coords(labelx+.09, 0.5)\n",
    "\n",
    "\n",
    "ax3 = plt.subplot(313)\n",
    "JEplotlengths = [contiglength/(float(1000)) for contiglength in Jasmine_contiglengths]\n",
    "plt.hist(JEplotlengths, bins=25, color='burlywood')\n",
    "plt.axis([0,11,0,23000])\n",
    "plt.xlabel(\"Synthetic read length (kb)\")\n",
    "plt.ylabel(\"Count\")\n",
    "ax3.spines['right'].set_visible(False)\n",
    "ax3.spines['top'].set_visible(False)\n",
    "ax3.xaxis.set_ticks_position('bottom')\n",
    "ax3.yaxis.set_ticks_position('left')\n",
    "plt.tick_params(axis='both', which='major', direction='out')\n",
    "ax3.yaxis.set_label_coords(labelx, 0.5)\n",
    "plt.locator_params(nbins=4)\n",
    "\n",
    "plt.tight_layout()\n",
    "\n",
    "plt.show()\n",
    "#plt.savefig('Ecoli_Jasmine_contigLengthHistogram.pdf', format='pdf')"
   ]
  },
  {
   "cell_type": "markdown",
   "metadata": {},
   "source": [
    "#### Multiplexed experiment"
   ]
  },
  {
   "cell_type": "code",
   "execution_count": 5,
   "metadata": {
    "collapsed": false
   },
   "outputs": [
    {
     "name": "stdout",
     "output_type": "stream",
     "text": [
      "/Users/jimstapleton/Dropbox/Papers/Sequencing/Github/multiplex\n",
      "Strain #1:\n",
      "2868 longer than 1kb\n",
      "N50 is 3.921 kb\n",
      "\n",
      "Strain #2:\n",
      "2366 longer than 1kb\n",
      "N50 is 4.218 kb\n",
      "\n",
      "Strain #3:\n",
      "7262 longer than 1kb\n",
      "N50 is 3.866 kb\n",
      "\n",
      "Strain #4:\n",
      "4673 longer than 1kb\n",
      "N50 is 3.914 kb\n",
      "\n",
      "Strain #5:\n",
      "7782 longer than 1kb\n",
      "N50 is 3.746 kb\n",
      "\n",
      "Strain #6:\n",
      "1454 longer than 1kb\n",
      "N50 is 4.319 kb\n",
      "\n",
      "Strain #7:\n",
      "5766 longer than 1kb\n",
      "N50 is 3.749 kb\n",
      "\n",
      "Strain #8:\n",
      "4806 longer than 1kb\n",
      "N50 is 3.976 kb\n",
      "\n",
      "Strain #9:\n",
      "800 longer than 1kb\n",
      "N50 is 4.487 kb\n",
      "\n",
      "Strain #10:\n",
      "508 longer than 1kb\n",
      "N50 is 4.204 kb\n",
      "\n",
      "Strain #11:\n",
      "5253 longer than 1kb\n",
      "N50 is 3.776 kb\n",
      "\n",
      "Strain #12:\n",
      "6325 longer than 1kb\n",
      "N50 is 3.796 kb\n",
      "\n",
      "Strain #13:\n",
      "3654 longer than 1kb\n",
      "N50 is 4.137 kb\n",
      "\n",
      "Strain #14:\n",
      "2634 longer than 1kb\n",
      "N50 is 5.084 kb\n",
      "\n",
      "Strain #15:\n",
      "5031 longer than 1kb\n",
      "N50 is 4.243 kb\n",
      "\n",
      "Strain #16:\n",
      "2985 longer than 1kb\n",
      "N50 is 4.269 kb\n",
      "\n",
      "Strain #17:\n",
      "830 longer than 1kb\n",
      "N50 is 5.231 kb\n",
      "\n",
      "Strain #18:\n",
      "4720 longer than 1kb\n",
      "N50 is 4.123 kb\n",
      "\n",
      "Strain #19:\n",
      "2860 longer than 1kb\n",
      "N50 is 2.457 kb\n",
      "\n",
      "Strain #20:\n",
      "3251 longer than 1kb\n",
      "N50 is 4.124 kb\n",
      "\n",
      "Strain #21:\n",
      "3257 longer than 1kb\n",
      "N50 is 4.142 kb\n",
      "\n",
      "Strain #22:\n",
      "976 longer than 1kb\n",
      "N50 is 3.643 kb\n",
      "\n",
      "Strain #23:\n",
      "3136 longer than 1kb\n",
      "N50 is 4.175 kb\n",
      "\n",
      "Strain #24:\n",
      "4198 longer than 1kb\n",
      "N50 is 4.137 kb\n",
      "\n",
      "Total contigs >1kb: 87395\n",
      "Median N50 is 4.1305\n",
      "Median E. coli genome coverage is 2.26210293478\n",
      "[3.921, 4.218, 3.866, 3.914, 3.746, 4.319, 3.749, 3.976, 4.487, 4.204, 3.776, 3.796, 4.137, 5.084, 4.243, 4.269, 5.231, 4.123, 2.457, 4.124, 4.142, 3.643, 4.175, 4.137]\n",
      "[1.9402604347826105, 1.7436178260869557, 4.772935217391331, 3.0946341304347773, 4.860702173913036, 1.0979191304347835, 3.780475869565225, 3.2126756521739193, 0.5704360869565211, 0.3277356521739132, 3.321116304347827, 3.964137826086967, 2.5885878260869544, 2.097171739130431, 3.6391558695652084, 2.1115373913043505, 0.6806165217391313, 3.2016921739130577, 1.3276356521739134, 2.258181739130441, 2.266024130434786, 0.5951878260869561, 2.213406739130435, 2.8256082608695605]\n",
      "Average genome coverage is 2.43714384058\n"
     ]
    }
   ],
   "source": [
    "%cd ../multiplex/\n",
    "totalLongContigs = 0\n",
    "N50dist = []\n",
    "lengthlist = []\n",
    "\n",
    "for i in range(1,25):\n",
    "    contiglengths = []\n",
    "    numContigs = 0\n",
    "    sumLength = 0\n",
    "    print \"Strain #\"+ str(i) +\":\"\n",
    "    with open(\"contig_lengths_\" + str(i), \"r\") as f:\n",
    "        for line in f:\n",
    "            if float(line) > 1000:\n",
    "                contiglengths.append(float(line)/1000)\n",
    "                numContigs += 1\n",
    "    for contiglength in contiglengths:\n",
    "        sumLength += contiglength\n",
    "        \n",
    "    lengthlist.append(float(sumLength)/4600)\n",
    "    print numContigs, \"longer than 1kb\"\n",
    "    totalLongContigs += numContigs\n",
    "    N50sum = 0\n",
    "    for contiglength in contiglengths:\n",
    "        N50sum += contiglength\n",
    "        if N50sum/float(sumLength) > 0.5:\n",
    "            print \"N50 is\", contiglength, 'kb\\n'\n",
    "            N50dist.append(contiglength)\n",
    "            break\n",
    "            \n",
    "print \"Total contigs >1kb: \" + str(totalLongContigs)\n",
    "            \n",
    "print \"Median N50 is\", np.median(N50dist)\n",
    "print \"Median E. coli genome coverage is\", np.median(lengthlist)\n",
    "            \n",
    "print N50dist\n",
    "print lengthlist\n",
    "print \"Average genome coverage is\", np.average(lengthlist)"
   ]
  },
  {
   "cell_type": "code",
   "execution_count": 6,
   "metadata": {
    "collapsed": false
   },
   "outputs": [
    {
     "name": "stdout",
     "output_type": "stream",
     "text": [
      "/Users/jimstapleton/Dropbox/Papers/Sequencing/Github/multiplex\n",
      "/Users/jimstapleton/Dropbox/Papers/Sequencing/Figures\n"
     ]
    },
    {
     "name": "stderr",
     "output_type": "stream",
     "text": [
      "/Users/jimstapleton/Library/Enthought/Canopy_64bit/User/lib/python2.7/site-packages/matplotlib/font_manager.py:1236: UserWarning: findfont: Font family [u'sans-serif'] not found. Falling back to Bitstream Vera Sans\n",
      "  (prop.get_family(), self.defaultFamily[fontext]))\n"
     ]
    },
    {
     "data": {
      "image/png": "[encoded data removed]",
      "text/plain": [
       "<matplotlib.figure.Figure at 0x10ddcba10>"
      ]
     },
     "metadata": {},
     "output_type": "display_data"
    }
   ],
   "source": [
    "%cd ../multiplex/\n",
    "publishable = plotsettings.Set('Science')\n",
    "publishable.set_figsize(n_columns = 4, n_rows = 6)\n",
    "\n",
    "x = np.arange(0,10.0, 0.1)\n",
    "fig, ax = plt.subplots(6,4, sharex=True, sharey=True)\n",
    "#fig.subplots_adjust(hspace = 500, wspace=100)\n",
    "\n",
    "for i, a in enumerate(ax.flatten()):\n",
    "    contiglengths = []\n",
    "    with open(\"contig_lengths_\" + str(i+1), \"r\") as f:\n",
    "        for line in f:\n",
    "            if float(line) > 1000:\n",
    "                contiglengths.append(float(line))\n",
    "    plotlengths = [contiglength/(float(1000)) for contiglength in contiglengths]\n",
    "    a.hist(plotlengths, bins=25, color='lightgray')\n",
    "    a.axis([0,8,0,1600])\n",
    "    a.locator_params(nbins=4)\n",
    "    a.spines['right'].set_visible(False)\n",
    "    a.spines['top'].set_visible(False)\n",
    "    a.xaxis.set_ticks_position('bottom')\n",
    "    a.yaxis.set_ticks_position('left')\n",
    "    a.tick_params(axis='both', which='major', direction='out')\n",
    "    a.text(4, 1200, 'strain ' + str(i+1), fontsize=12)\n",
    "\n",
    "    \n",
    "fig.text(0.5, 0.04, \"Synthetic read length (kb)\", ha='center', va='center', size=14)\n",
    "fig.text(0.06, 0.5, \"Count\", ha='center', va='center', rotation='vertical', size=14)\n",
    "\n",
    "plt.show()\n",
    "#plt.savefig('Multiplex_contigLengthHistograms.pdf', format='pdf')"
   ]
  },
  {
   "cell_type": "code",
   "execution_count": 8,
   "metadata": {
    "collapsed": false
   },
   "outputs": [
    {
     "name": "stdout",
     "output_type": "stream",
     "text": [
      "[2.4772015217391306, 2.1487723913043477, 6.199897826086956, 4.03021652173913, 6.669197826086957, 1.341948043478261, 4.785908043478261, 4.134926086956522, 0.9628028260869566, 0.5816358695652174, 4.467174565217391, 5.365693913043478, 3.2350271739130436, 2.591940217391304, 4.471001086956521, 2.6401541304347824, 0.8458497826086957, 4.150514347826087, 2.3374915217391306, 2.870595652173913, 2.90257, 0.8209241304347826, 2.7429706521739132, 3.6963102173913045]\n"
     ]
    }
   ],
   "source": [
    "# Sum and genome coverage of all synthetic reads, including shorter than 1kb\n",
    "totalbases = [11395127,\n",
    "9884353,\n",
    "28519530,\n",
    "18538996,\n",
    "30678310,\n",
    "6172961,\n",
    "22015177,\n",
    "19020660,\n",
    "4428893,\n",
    "2675525,\n",
    "20549003,\n",
    "24682192,\n",
    "14881125,\n",
    "11922925,\n",
    "20566605,\n",
    "12144709,\n",
    "3890909,\n",
    "19092366,\n",
    "10752461,\n",
    "13204740,\n",
    "13351822,\n",
    "3776251,\n",
    "12617665,\n",
    "17003027]\n",
    "print [totalbase/float(4600000) for totalbase in totalbases]"
   ]
  },
  {
   "cell_type": "code",
   "execution_count": 9,
   "metadata": {
    "collapsed": false
   },
   "outputs": [],
   "source": [
    "# Trimmed reads demultiplexed to each strain\n",
    "readcounts = [\n",
    "8872508,\n",
    "11930637,\n",
    "10809493,\n",
    "7954228,\n",
    "10911001,\n",
    "6665185,\n",
    "13681197,\n",
    "8853848,\n",
    "9302047,\n",
    "7254760,\n",
    "8048677,\n",
    "8929129,\n",
    "9800591,\n",
    "10318263,\n",
    "14214396,\n",
    "8038491,\n",
    "4071121,\n",
    "9047392,\n",
    "2093789,\n",
    "6834299,\n",
    "7798683,\n",
    "1060475,\n",
    "8673609,\n",
    "6553945]"
   ]
  },
  {
   "cell_type": "code",
   "execution_count": 10,
   "metadata": {
    "collapsed": false
   },
   "outputs": [
    {
     "data": {
      "image/png": "[encoded data removed]",
      "text/plain": [
       "<matplotlib.figure.Figure at 0x10e3fee50>"
      ]
     },
     "metadata": {},
     "output_type": "display_data"
    }
   ],
   "source": [
    "publishable = plotsettings.Set('Science')\n",
    "publishable.set_figsize(n_columns = .9, n_rows =1)\n",
    "\n",
    "fig = plt.figure()\n",
    "\n",
    "labelx = -0.5\n",
    "ax = plt.subplot(111)\n",
    "scaledreadcounts = [count/float(500000) for count in readcounts]\n",
    "lotsocolors = ['tomato',\n",
    "'aqua',\n",
    "'aquamarine',\n",
    "'blue',\n",
    "'blueviolet',\n",
    "'brown',\n",
    "'chartreuse',\n",
    "'chocolate',\n",
    "'coral',\n",
    "'crimson',\n",
    "'cyan',\n",
    "'darkblue',\n",
    "'darkcyan',\n",
    "'darkgoldenrod',\n",
    "'darkgray',\n",
    "'darkgreen',\n",
    "'darkmagenta',\n",
    "'darkolivegreen',\n",
    "'darkorange',\n",
    "'darkorchid',\n",
    "'darkseagreen',\n",
    "'deeppink',\n",
    "'thistle'\n",
    "]\n",
    "plt.scatter(N50dist, lengthlist, s=scaledreadcounts, facecolors=lotsocolors, edgecolors='none')\n",
    "plt.xlabel(\"N50 length (kb)\")\n",
    "plt.ylabel(\"$E. coli$ genome\\ncoverage\\n(fold)\")\n",
    "ax.spines['right'].set_visible(False)\n",
    "ax.spines['top'].set_visible(False)\n",
    "ax.xaxis.set_ticks_position('bottom')\n",
    "ax.yaxis.set_ticks_position('left')\n",
    "ax.yaxis.set_label_coords(labelx+.22, 0.5)\n",
    "plt.tick_params(axis='both', which='major', direction='out')\n",
    "plt.locator_params(nbins=4)\n",
    "plt.tight_layout()\n",
    "\n",
    "plt.show()\n",
    "#plt.savefig('Multiplex.pdf', format='pdf')"
   ]
  },
  {
   "cell_type": "markdown",
   "metadata": {},
   "source": [
    "### Figure 2: mRNA length histograms"
   ]
  },
  {
   "cell_type": "code",
   "execution_count": 5,
   "metadata": {
    "collapsed": false
   },
   "outputs": [
    {
     "name": "stdout",
     "output_type": "stream",
     "text": [
      "/Users/jimstapleton/Dropbox/Papers/Sequencing/Github/HCT116\n",
      "11707 longer than 1000 bp\n"
     ]
    }
   ],
   "source": [
    "%cd ../HCT116/\n",
    "HCTcontiglengths = []\n",
    "numContigs = 0\n",
    "with open(\"contig_lengths\", \"r\") as f:\n",
    "    for line in f:\n",
    "        if float(line) > 1000:\n",
    "            HCTcontiglengths.append(float(line))\n",
    "            numContigs += 1\n",
    "print numContigs, \"longer than 1000 bp\""
   ]
  },
  {
   "cell_type": "code",
   "execution_count": 6,
   "metadata": {
    "collapsed": false
   },
   "outputs": [
    {
     "name": "stdout",
     "output_type": "stream",
     "text": [
      "N50 is 1465.0\n"
     ]
    }
   ],
   "source": [
    "sumLength = 0\n",
    "for contiglength in HCTcontiglengths:\n",
    "    sumLength += contiglength\n",
    "\n",
    "N50sum = 0\n",
    "for contiglength in HCTcontiglengths:\n",
    "    N50sum += contiglength\n",
    "    if N50sum/float(sumLength) > 0.5:\n",
    "        print \"N50 is\", contiglength\n",
    "        break"
   ]
  },
  {
   "cell_type": "code",
   "execution_count": 7,
   "metadata": {
    "collapsed": false
   },
   "outputs": [
    {
     "name": "stdout",
     "output_type": "stream",
     "text": [
      "/Users/jimstapleton/Dropbox/Papers/Sequencing/Github/HCT116\n",
      "28689 longer than 500 bp\n"
     ]
    }
   ],
   "source": [
    "%cd ../HCT116/\n",
    "HCTcontiglengths = []\n",
    "numContigs = 0\n",
    "with open(\"contig_lengths\", \"r\") as f:\n",
    "    for line in f:\n",
    "        if float(line) > 500:\n",
    "            HCTcontiglengths.append(float(line))\n",
    "            numContigs += 1\n",
    "print numContigs, \"longer than 500 bp\""
   ]
  },
  {
   "cell_type": "code",
   "execution_count": 12,
   "metadata": {
    "collapsed": false
   },
   "outputs": [
    {
     "name": "stdout",
     "output_type": "stream",
     "text": [
      "/Users/jimstapleton/Dropbox/Papers/Sequencing/Github/HepG2\n",
      "6640 longer than 1000 bp\n"
     ]
    }
   ],
   "source": [
    "%cd ../HepG2/\n",
    "Hepcontiglengths = []\n",
    "numContigs = 0\n",
    "with open(\"contig_lengths\", \"r\") as f:\n",
    "    for line in f:\n",
    "        if float(line) > 1000:\n",
    "            Hepcontiglengths.append(float(line))\n",
    "            numContigs += 1\n",
    "print numContigs, \"longer than 1000 bp\""
   ]
  },
  {
   "cell_type": "code",
   "execution_count": 13,
   "metadata": {
    "collapsed": false
   },
   "outputs": [
    {
     "name": "stdout",
     "output_type": "stream",
     "text": [
      "N50 is 1639.0\n"
     ]
    }
   ],
   "source": [
    "sumLength = 0\n",
    "for contiglength in Hepcontiglengths:\n",
    "    sumLength += contiglength\n",
    "\n",
    "N50sum = 0\n",
    "for contiglength in Hepcontiglengths:\n",
    "    N50sum += contiglength\n",
    "    if N50sum/float(sumLength) > 0.5:\n",
    "        print \"N50 is\", contiglength\n",
    "        break"
   ]
  },
  {
   "cell_type": "code",
   "execution_count": 14,
   "metadata": {
    "collapsed": false
   },
   "outputs": [
    {
     "name": "stdout",
     "output_type": "stream",
     "text": [
      "/Users/jimstapleton/Dropbox/Papers/Sequencing/Github/HepG2\n",
      "16929 longer than 500 bp\n"
     ]
    }
   ],
   "source": [
    "%cd ../HepG2/\n",
    "Hepcontiglengths = []\n",
    "numContigs = 0\n",
    "with open(\"contig_lengths\", \"r\") as f:\n",
    "    for line in f:\n",
    "        if float(line) > 500:\n",
    "            Hepcontiglengths.append(float(line))\n",
    "            numContigs += 1\n",
    "print numContigs, \"longer than 500 bp\""
   ]
  },
  {
   "cell_type": "code",
   "execution_count": 421,
   "metadata": {
    "collapsed": false
   },
   "outputs": [
    {
     "name": "stdout",
     "output_type": "stream",
     "text": [
      "/Users/jimstapleton/Dropbox/Papers/Sequencing/Figures\n"
     ]
    },
    {
     "data": {
      "image/png": "[encoded data removed]",
      "text/plain": [
       "<matplotlib.figure.Figure at 0x114f73c50>"
      ]
     },
     "metadata": {},
     "output_type": "display_data"
    }
   ],
   "source": [
    "publishable = plotsettings.Set('Science')\n",
    "publishable.set_figsize(n_columns = 1, n_rows = 2)\n",
    "\n",
    "fig, ax = plt.subplots()\n",
    "\n",
    "ax1 = plt.subplot(211)\n",
    "plt.hist(HCTcontiglengths, bins=20, color='lightblue')\n",
    "plt.axis([0,3000,0,7000])\n",
    "plt.ylabel(\"Count\")\n",
    "ax1.spines['right'].set_visible(False)\n",
    "ax1.spines['top'].set_visible(False)\n",
    "ax1.xaxis.set_ticks_position('bottom')\n",
    "ax1.yaxis.set_ticks_position('left')\n",
    "plt.tick_params(axis='both', which='major', direction='out')\n",
    "plt.locator_params(nbins=4)\n",
    "\n",
    "ax2 = plt.subplot(212)\n",
    "plt.hist(Hepcontiglengths, bins=30, color='steelblue')\n",
    "plt.axis([0,3000,0,7000])\n",
    "plt.xlabel(\"Synthetic read length (kb)\")\n",
    "plt.ylabel(\"Count\")\n",
    "ax2.spines['right'].set_visible(False)\n",
    "ax2.spines['top'].set_visible(False)\n",
    "ax2.xaxis.set_ticks_position('bottom')\n",
    "ax2.yaxis.set_ticks_position('left')\n",
    "plt.tick_params(axis='both', which='major', direction='out')\n",
    "plt.locator_params(nbins=4)\n",
    "plt.tight_layout()\n",
    "\n",
    "\n",
    "plt.show()\n",
    "#plt.savefig('mRNA_length.pdf', format='pdf')"
   ]
  },
  {
   "cell_type": "code",
   "execution_count": 124,
   "metadata": {
    "collapsed": false
   },
   "outputs": [
    {
     "name": "stdout",
     "output_type": "stream",
     "text": [
      "/Users/jimstapleton/Dropbox/Papers/Sequencing/Figures\n"
     ]
    },
    {
     "data": {
      "image/png": "[encoded data removed]",
      "text/plain": [
       "<matplotlib.figure.Figure at 0x10f04bc10>"
      ]
     },
     "metadata": {},
     "output_type": "display_data"
    }
   ],
   "source": [
    "publishable = plotsettings.Set('Science')\n",
    "publishable.set_figsize(n_columns = 1, n_rows = 1)\n",
    "\n",
    "sizes = [97,3]\n",
    "colors = ['white', 'black']\n",
    "\n",
    "plt.pie(sizes, colors=colors,\n",
    "        shadow=False, startangle=90)\n",
    "plt.axis('equal')\n",
    "plt.tight_layout()\n",
    "\n",
    "\n",
    "plt.show()\n",
    "#plt.savefig('mRNA_pie.pdf', format='pdf')"
   ]
  },
  {
   "cell_type": "code",
   "execution_count": 36,
   "metadata": {
    "collapsed": false
   },
   "outputs": [
    {
     "name": "stdout",
     "output_type": "stream",
     "text": [
      "/Users/jimstapleton/Dropbox/Papers/Sequencing/Github\n",
      "6952\n",
      "24858\n",
      "16202\n",
      "0.0\n",
      "2.0\n",
      "2.0\n"
     ]
    }
   ],
   "source": [
    "short_junctions = []\n",
    "with open('HCT_read_blocks.txt', 'r') as data:\n",
    "    for line in data:\n",
    "        for datafield in line.split('\\r'):\n",
    "            short_junctions.append(int(datafield.rstrip())-1)\n",
    "\n",
    "with open('Hep_read_blocks.txt', 'r') as data:\n",
    "   for line in data:\n",
    "        for datafield in line.split('\\r'):\n",
    "            short_junctions.append(int(datafield.rstrip())-1)\n",
    "print len(short_junctions)\n",
    "\n",
    "HCT_long_junctions = []\n",
    "with open('HCT_long_read_blocks.txt', 'r') as data:\n",
    "   for line in data:\n",
    "        for datafield in line.split('\\r'):\n",
    "            HCT_long_junctions.append(int(datafield.rstrip())-1)\n",
    "print len(HCT_long_junctions)\n",
    "\n",
    "Hep_long_junctions = []\n",
    "with open('Hep_long_read_blocks.txt', 'r') as data:\n",
    "   for line in data:\n",
    "        for datafield in line.split('\\r'):\n",
    "            Hep_long_junctions.append(int(datafield.rstrip())-1)\n",
    "print len(Hep_long_junctions)\n",
    "\n",
    "\n",
    "print np.median(np.array(short_junctions))\n",
    "print np.median(np.array(HCT_long_junctions))\n",
    "print np.median(np.array(Hep_long_junctions))"
   ]
  },
  {
   "cell_type": "code",
   "execution_count": 122,
   "metadata": {
    "collapsed": false
   },
   "outputs": [
    {
     "name": "stdout",
     "output_type": "stream",
     "text": [
      "/Users/jimstapleton/Dropbox/Papers/Sequencing/Figures\n"
     ]
    },
    {
     "data": {
      "image/png": "[encoded data removed]",
      "text/plain": [
       "<matplotlib.figure.Figure at 0x10f34a050>"
      ]
     },
     "metadata": {},
     "output_type": "display_data"
    }
   ],
   "source": [
    "publishable = plotsettings.Set('Science')\n",
    "publishable.set_figsize(n_columns = 1, n_rows = 2)\n",
    "\n",
    "#http://nbviewer.ipython.org/gist/olgabot/5432378\n",
    "#http://blog.bharatbhole.com/creating-boxplots-with-matplotlib/\n",
    "\n",
    "data_to_plot = [short_junctions, HCT_long_junctions, Hep_long_junctions]\n",
    "fig = plt.figure()\n",
    "ax = fig.add_subplot(211)\n",
    "ax2 = fig.add_subplot(212)\n",
    "bp = ax.boxplot(data_to_plot, widths=.2, notch=True, patch_artist=True)\n",
    "bp2 = ax2.boxplot(data_to_plot, widths=.2, notch=True, patch_artist=True)\n",
    "ax.set_xticklabels('')\n",
    "ax2.set_xticklabels(['Short\\nreads', 'HCT116\\nsynthetic\\nreads', \n",
    "                    'HepG2\\nsynthetic\\nreads'])\n",
    "#ax.set_yscale('log')\n",
    "ax.xaxis.set_ticks_position('none')\n",
    "ax.yaxis.set_ticks_position('none')\n",
    "ax2.xaxis.set_ticks_position('none')\n",
    "ax2.yaxis.set_ticks_position('none')\n",
    "\n",
    "ax.set_ylim(8,36)\n",
    "ax2.set_ylim(0,5)\n",
    "ax.spines['right'].set_visible(False)\n",
    "ax.spines['top'].set_visible(False)\n",
    "ax.spines['bottom'].set_visible(False)\n",
    "\n",
    "plt.setp(bp['whiskers'], linestyle='solid', color='black', linewidth=0.5)\n",
    "plt.setp(bp['fliers'], color='black')\n",
    "plt.setp(bp['caps'], color='black')\n",
    "colors = ['lightgrey', 'lightblue', 'steelblue']\n",
    "    \n",
    "ax2.spines['right'].set_visible(False)\n",
    "ax2.spines['top'].set_visible(False)\n",
    "plt.setp(bp2['whiskers'], linestyle='solid', color='black', linewidth=0.5)\n",
    "plt.setp(bp2['medians'], color='black')\n",
    "plt.setp(bp2['fliers'], color='black')\n",
    "plt.setp(bp2['caps'], color='black')\n",
    "for patch, color in zip(bp2['boxes'], colors):\n",
    "    patch.set_facecolor(color)\n",
    "\n",
    "#http://matplotlib.org/examples/pylab_examples/broken_axis.html    \n",
    "\n",
    "d = .015 # how big to make the diagonal lines in axes coordinates\n",
    "# arguments to pass plot, just so we don't keep repeating them\n",
    "kwargs = dict(transform=ax.transAxes, color='k', clip_on=False)\n",
    "ax.plot((-d,+d),(-d,+d), **kwargs) # top-left diagonal\n",
    "\n",
    "kwargs.update(transform=ax2.transAxes) # switch to the bottom axes\n",
    "ax2.plot((-d,+d),(1-d,1+d), **kwargs) # top-right diagonal\n",
    "\n",
    "fig.text(0.02, 0.55, \"Junctions spanned\", ha='center', va='center', rotation='vertical')\n",
    "plt.tight_layout()\n",
    "\n",
    "# Save the figure\n",
    "fig.show()\n",
    "#fig.savefig('boxplot.pdf', format='pdf')"
   ]
  },
  {
   "cell_type": "code",
   "execution_count": 324,
   "metadata": {
    "collapsed": false
   },
   "outputs": [
    {
     "data": {
      "image/png": "[encoded data removed]",
      "text/plain": [
       "<matplotlib.figure.Figure at 0x11334fa90>"
      ]
     },
     "metadata": {},
     "output_type": "display_data"
    }
   ],
   "source": [
    "publishable = plotsettings.Set('Science')\n",
    "publishable.set_figsize(n_columns = 1, n_rows = 2)\n",
    "\n",
    "\n",
    "#http://nbviewer.ipython.org/gist/olgabot/5432378\n",
    "#http://blog.bharatbhole.com/creating-boxplots-with-matplotlib/\n",
    "\n",
    "data_to_plot = [short_junctions, HCT_long_junctions, Hep_long_junctions]\n",
    "fig = plt.figure()\n",
    "ax = fig.add_subplot(111)\n",
    "bp = ax.boxplot(data_to_plot, widths=.2, notch=True, patch_artist=True)\n",
    "ax.set_xticklabels(['Short\\nreads', 'HCT116\\nsynthetic\\nreads', \n",
    "                    'HepG2\\nsynthetic\\nreads'])\n",
    "ax.set_ylabel(\"Junctions spanned\")\n",
    "ax.xaxis.set_ticks_position('none')\n",
    "ax.yaxis.set_ticks_position('none')\n",
    "\n",
    "ax.set_ylim(0,36)\n",
    "ax.spines['right'].set_visible(False)\n",
    "ax.spines['top'].set_visible(False)\n",
    "\n",
    "plt.setp(bp['whiskers'], linestyle='solid', color='black', linewidth=0.5)\n",
    "plt.setp(bp['fliers'], color='black')\n",
    "plt.setp(bp['caps'], color='black')\n",
    "plt.setp(bp['medians'], color='black')\n",
    "\n",
    "colors = ['lightgrey', 'lightblue', 'steelblue']\n",
    "for patch, color in zip(bp['boxes'], colors):\n",
    "    patch.set_facecolor(color)\n",
    "\n",
    "plt.tight_layout()\n",
    "\n",
    "# Save the figure\n",
    "fig.show()\n",
    "#fig.savefig('boxplotv2.pdf', format='pdf')"
   ]
  },
  {
   "cell_type": "markdown",
   "metadata": {},
   "source": [
    "### Figure 3a: Length distribution of Env and  Figure 3b: Env discrimination"
   ]
  },
  {
   "cell_type": "code",
   "execution_count": 49,
   "metadata": {
    "collapsed": false
   },
   "outputs": [
    {
     "name": "stdout",
     "output_type": "stream",
     "text": [
      "/Users/jimstapleton/Dropbox/Papers/Sequencing/Github/Env\n",
      "1280 contigs longer than 1kb\n"
     ]
    }
   ],
   "source": [
    "%cd ../Env\n",
    "\n",
    "Env_cleanlengths = []\n",
    "numClean = 0\n",
    "with open(\"unique_contig_lengths\", \"r\") as f:\n",
    "    for line in f:\n",
    "        if float(line) > 1000:\n",
    "            Env_cleanlengths.append(float(line))\n",
    "            numClean += 1\n",
    "print numClean, \"contigs longer than 1kb\""
   ]
  },
  {
   "cell_type": "code",
   "execution_count": 50,
   "metadata": {
    "collapsed": false
   },
   "outputs": [
    {
     "name": "stdout",
     "output_type": "stream",
     "text": [
      "/Users/jimstapleton/Dropbox/Papers/Sequencing/Github/Env\n"
     ]
    }
   ],
   "source": [
    "%cd ../Env\n",
    "MajMatch = []\n",
    "with open(\"env1maxwRate\", \"r\") as f:\n",
    "    for line in f:\n",
    "        MajMatch.append(float(line))\n",
    "\n",
    "MinMatch = []\n",
    "with open(\"env2maxwRate\", \"r\") as f:\n",
    "    for line in f:\n",
    "        MinMatch.append(float(line))"
   ]
  },
  {
   "cell_type": "code",
   "execution_count": 51,
   "metadata": {
    "collapsed": false
   },
   "outputs": [
    {
     "name": "stdout",
     "output_type": "stream",
     "text": [
      "/Users/jimstapleton/Dropbox/Papers/Sequencing/Github/Env\n"
     ]
    }
   ],
   "source": [
    "%cd ../Env/\n",
    "MajMatchC1 = []\n",
    "with open(\"E1C1maxwRate\", \"r\") as f:\n",
    "    for line in f:\n",
    "        MajMatchC1.append(1-float(line))\n",
    "\n",
    "MinMatchC1 = []\n",
    "with open(\"E2C1maxwRate\", \"r\") as f:\n",
    "    for line in f:\n",
    "        MinMatchC1.append(1-float(line))\n",
    "    \n",
    "MajMatchC2 = []\n",
    "with open(\"E1C2maxwRate\", \"r\") as f:\n",
    "    for line in f:\n",
    "        MajMatchC2.append(1-float(line))\n",
    "\n",
    "MinMatchC2 = []\n",
    "with open(\"E2C2maxwRate\", \"r\") as f:\n",
    "    for line in f:\n",
    "        MinMatchC2.append(1-float(line))\n",
    "    \n",
    "MajMatchC3 = []\n",
    "with open(\"E1C3maxwRate\", \"r\") as f:\n",
    "    for line in f:\n",
    "        MajMatchC3.append(1-float(line))\n",
    "MinMatchC3 = []\n",
    "with open(\"E2C3maxwRate\", \"r\") as f:\n",
    "    for line in f:\n",
    "        MinMatchC3.append(1-float(line))"
   ]
  },
  {
   "cell_type": "code",
   "execution_count": 825,
   "metadata": {
    "collapsed": false
   },
   "outputs": [
    {
     "name": "stdout",
     "output_type": "stream",
     "text": [
      "/Users/jimstapleton/Dropbox/Papers/Sequencing/Figures\n"
     ]
    },
    {
     "data": {
      "image/png": "[encoded data removed]",
      "text/plain": [
       "<matplotlib.figure.Figure at 0x11be23c10>"
      ]
     },
     "metadata": {},
     "output_type": "display_data"
    }
   ],
   "source": [
    "publishable = plotsettings.Set('Science')\n",
    "publishable.set_figsize(n_columns = 1, n_rows = 1)\n",
    "\n",
    "fig1, ax1 = plt.subplots()\n",
    "\n",
    "plt.hist(Env_cleanlengths, bins=20, color='lightgrey')\n",
    "plt.axis([0,4000,0,400])\n",
    "plt.xlabel(\"Synthetic read length (bp)\")\n",
    "plt.ylabel(\"Count\")\n",
    "ax1.spines['right'].set_visible(False)\n",
    "ax1.spines['top'].set_visible(False)\n",
    "ax1.xaxis.set_ticks_position('bottom')\n",
    "ax1.yaxis.set_ticks_position('left')\n",
    "plt.tick_params(axis='both', which='major', direction='out')\n",
    "plt.locator_params(nbins=4)\n",
    "plt.tight_layout()\n",
    "\n",
    "plt.show()\n",
    "#plt.savefig('Figure3a.pdf', format='pdf')"
   ]
  },
  {
   "cell_type": "code",
   "execution_count": 679,
   "metadata": {
    "collapsed": false
   },
   "outputs": [
    {
     "data": {
      "image/png": "[encoded data removed]",
      "text/plain": [
       "<matplotlib.figure.Figure at 0x1100bbb10>"
      ]
     },
     "metadata": {},
     "output_type": "display_data"
    }
   ],
   "source": [
    "publishable.set_figsize(n_columns = 2, aspect_ratio=1)\n",
    "\n",
    "\n",
    "fig, ax = plt.subplots()\n",
    "\n",
    "plt.plot(MajMatch, MinMatch, 'o', alpha=.03, mfc='None') # plots open circles to emphasize density\n",
    "plt.plot(MajMatchC1, MinMatchC1,'x', color='black') \n",
    "plt.plot(MajMatchC2, MinMatchC2,'x', color='black') \n",
    "plt.plot(MajMatchC3, MinMatchC3,'x', color='black') \n",
    "\n",
    "plt.xlabel(\"Env1 mismatch rate\")\n",
    "plt.ylabel(\"Env2 mismatch rate\")\n",
    "ax.spines['right'].set_visible(False)\n",
    "ax.spines['top'].set_visible(False)\n",
    "ax.xaxis.set_ticks_position('bottom')\n",
    "ax.yaxis.set_ticks_position('left')\n",
    "ax.set_aspect(\"equal\")\n",
    "plt.tick_params(axis='both', which='major', direction='out')\n",
    "plt.locator_params(nbins=4)\n",
    "\n",
    "plt.tight_layout()\n",
    "\n",
    "plt.show()\n",
    "#plt.savefig('Figure3c.pdf', format='pdf')"
   ]
  },
  {
   "cell_type": "code",
   "execution_count": 823,
   "metadata": {
    "collapsed": false
   },
   "outputs": [
    {
     "name": "stdout",
     "output_type": "stream",
     "text": [
      "/Users/jimstapleton/Dropbox/Papers/Sequencing/Figures\n"
     ]
    },
    {
     "data": {
      "image/png": "[encoded data removed]",
      "text/plain": [
       "<matplotlib.figure.Figure at 0x11be087d0>"
      ]
     },
     "metadata": {},
     "output_type": "display_data"
    }
   ],
   "source": [
    "#http://stackoverflow.com/questions/14391959/heatmap-in-matplotlib-with-pcolor\n",
    "MajMatch = [1-match for match in MajMatch]\n",
    "MinMatch = [1-match for match in MinMatch]\n",
    "data = np.array((MajMatch, MinMatch), dtype=float)\n",
    "data = data.T\n",
    "sorteddata = data[data[:,1].argsort()]\n",
    "fig, ax = plt.subplots()\n",
    "heatmap = ax.pcolor(sorteddata, cmap=plt.cm.Greys)\n",
    "plt.axis('off')\n",
    "\n",
    "ax.invert_yaxis()\n",
    "ax.xaxis.tick_top()\n",
    "fig.set_size_inches(2, 3)\n",
    "\n",
    "ax.set_xticklabels(row_labels, minor=False)\n",
    "ax.set_yticklabels(column_labels, minor=False)\n",
    "cbar = plt.colorbar(heatmap)\n",
    "#plt.tight_layout()\n",
    "\n",
    "plt.show()\n",
    "#plt.savefig('env_colormap.pdf', format='pdf')"
   ]
  },
  {
   "cell_type": "markdown",
   "metadata": {},
   "source": [
    "### Supplemental length histograms"
   ]
  },
  {
   "cell_type": "code",
   "execution_count": 12,
   "metadata": {
    "collapsed": false
   },
   "outputs": [
    {
     "name": "stdout",
     "output_type": "stream",
     "text": [
      "/Users/jimstapleton/Dropbox/Papers/Sequencing/Github/Potato\n",
      "1509 longer than 1kb\n"
     ]
    }
   ],
   "source": [
    "# Potato\n",
    "\n",
    "%cd ../Potato/\n",
    "potato_contiglengths = []\n",
    "numContigs = 0\n",
    "with open(\"contig_lengths\", \"r\") as f:\n",
    "    for line in f:\n",
    "        if float(line) > 1000:\n",
    "            potato_contiglengths.append(float(line))\n",
    "            numContigs += 1\n",
    "print numContigs, \"longer than 1kb\""
   ]
  },
  {
   "cell_type": "code",
   "execution_count": 13,
   "metadata": {
    "collapsed": false
   },
   "outputs": [
    {
     "name": "stdout",
     "output_type": "stream",
     "text": [
      "/Users/jimstapleton/Dropbox/Papers/Sequencing/Github/Potato\n",
      "1509 longer than 1kb\n"
     ]
    }
   ],
   "source": [
    "# Potato\n",
    "\n",
    "%cd ../Potato/\n",
    "potato_contiglengths = []\n",
    "numContigs = 0\n",
    "with open(\"contig_lengths\", \"r\") as f:\n",
    "    for line in f:\n",
    "        if float(line) > 1000:\n",
    "            potato_contiglengths.append(float(line))\n",
    "            numContigs += 1\n",
    "print numContigs, \"longer than 1kb\""
   ]
  },
  {
   "cell_type": "code",
   "execution_count": 14,
   "metadata": {
    "collapsed": false
   },
   "outputs": [
    {
     "name": "stdout",
     "output_type": "stream",
     "text": [
      "N50 is 3279.0\n"
     ]
    }
   ],
   "source": [
    "sumLength = 0\n",
    "for contiglength in potato_contiglengths:\n",
    "    sumLength += contiglength\n",
    "\n",
    "N50sum = 0\n",
    "for contiglength in potato_contiglengths:\n",
    "    N50sum += contiglength\n",
    "    if N50sum/float(sumLength) > 0.5:\n",
    "        print \"N50 is\", contiglength\n",
    "        break"
   ]
  },
  {
   "cell_type": "code",
   "execution_count": 29,
   "metadata": {
    "collapsed": false
   },
   "outputs": [
    {
     "name": "stdout",
     "output_type": "stream",
     "text": [
      "/Users/jimstapleton/Dropbox/Papers/Sequencing/Github/Gelsemium2\n",
      "28574 longer than 1kb\n"
     ]
    }
   ],
   "source": [
    "# Gelsemium #2\n",
    "\n",
    "%cd ../Gelsemium2/\n",
    "JasmineR_contiglengths = []\n",
    "numContigs = 0\n",
    "with open(\"contig_lengths\", \"r\") as f:\n",
    "    for line in f:\n",
    "        if float(line) > 1000:\n",
    "            JasmineR_contiglengths.append(float(line))\n",
    "            numContigs += 1\n",
    "print numContigs, \"longer than 1kb\""
   ]
  },
  {
   "cell_type": "code",
   "execution_count": 27,
   "metadata": {
    "collapsed": false
   },
   "outputs": [
    {
     "name": "stdout",
     "output_type": "stream",
     "text": [
      "N50 is 2802.0\n"
     ]
    }
   ],
   "source": [
    "sumLength = 0\n",
    "for contiglength in JasmineR_contiglengths:\n",
    "    sumLength += contiglength\n",
    "\n",
    "N50sum = 0\n",
    "for contiglength in JasmineR_contiglengths:\n",
    "    N50sum += contiglength\n",
    "    if N50sum/float(sumLength) > 0.5:\n",
    "        print \"N50 is\", contiglength\n",
    "        break"
   ]
  },
  {
   "cell_type": "code",
   "execution_count": 58,
   "metadata": {
    "collapsed": false
   },
   "outputs": [
    {
     "name": "stdout",
     "output_type": "stream",
     "text": [
      "/Users/jimstapleton/Dropbox/Papers/Sequencing/Github/Chicken\n",
      "146501 longer than 1kb\n"
     ]
    }
   ],
   "source": [
    "# Chicken\n",
    "\n",
    "%cd ../Chicken\n",
    "Chicken_contiglengths = []\n",
    "numContigs = 0\n",
    "with open(\"contig_lengths\", \"r\") as f:\n",
    "    for line in f:\n",
    "        if float(line) > 1000:\n",
    "            Chicken_contiglengths.append(float(line))\n",
    "            numContigs += 1\n",
    "print numContigs, \"longer than 1kb\""
   ]
  },
  {
   "cell_type": "code",
   "execution_count": 337,
   "metadata": {
    "collapsed": false
   },
   "outputs": [
    {
     "name": "stdout",
     "output_type": "stream",
     "text": [
      "N50 is 2051.0\n"
     ]
    }
   ],
   "source": [
    "sumLength = 0\n",
    "for contiglength in Chicken_contiglengths:\n",
    "    sumLength += contiglength\n",
    "\n",
    "N50sum = 0\n",
    "for contiglength in Chicken_contiglengths:\n",
    "    N50sum += contiglength\n",
    "    if N50sum/float(sumLength) > 0.5:\n",
    "        print \"N50 is\", contiglength\n",
    "        break"
   ]
  },
  {
   "cell_type": "code",
   "execution_count": 60,
   "metadata": {
    "collapsed": false
   },
   "outputs": [
    {
     "name": "stdout",
     "output_type": "stream",
     "text": [
      "/Users/jimstapleton/Dropbox/Papers/Sequencing/Figures\n"
     ]
    },
    {
     "data": {
      "image/png": "[encoded data removed]",
      "text/plain": [
       "<matplotlib.figure.Figure at 0x10fe66090>"
      ]
     },
     "metadata": {},
     "output_type": "display_data"
    }
   ],
   "source": [
    "publishable = plotsettings.Set('Science')\n",
    "publishable.set_figsize(n_columns = 2.5, n_rows = 1)\n",
    "\n",
    "fig, ax = plt.subplots()\n",
    "\n",
    "# Jasmine #2\n",
    "ax1 = plt.subplot(131)\n",
    "plt.hist(JasmineR_contiglengths, bins=30, color='lightgray')\n",
    "plt.axis([0,11000,0,10000])\n",
    "plt.xlabel(\"Synthetic read length (bp)\")\n",
    "plt.ylabel(\"Count\")\n",
    "plt.locator_params(nbins=3)\n",
    "ax1.spines['right'].set_visible(False)\n",
    "ax1.spines['top'].set_visible(False)\n",
    "ax1.xaxis.set_ticks_position('bottom')\n",
    "ax1.yaxis.set_ticks_position('left')\n",
    "plt.tick_params(axis='both', which='major', direction='out')\n",
    "\n",
    "\n",
    "# Chicken\n",
    "ax2 = plt.subplot(132)\n",
    "plt.hist(Chicken_contiglengths, bins=15, color='lightgray')\n",
    "plt.axis([0,11000,0,50000])\n",
    "plt.xlabel(\"Synthetic read length (bp)\")\n",
    "ax2.spines['right'].set_visible(False)\n",
    "ax2.spines['top'].set_visible(False)\n",
    "ax2.xaxis.set_ticks_position('bottom')\n",
    "ax2.yaxis.set_ticks_position('left')\n",
    "plt.tick_params(axis='both', which='major', direction='out')\n",
    "plt.locator_params(nbins=4)\n",
    "\n",
    "\n",
    "# Potato\n",
    "ax3 = plt.subplot(133)\n",
    "plt.hist(potato_contiglengths, bins=15, color='lightgray')\n",
    "plt.axis([0,11000,0,300])\n",
    "plt.xlabel(\"Synthetic read length (bp)\")\n",
    "plt.locator_params(nbins=4)\n",
    "ax3.spines['right'].set_visible(False)\n",
    "ax3.spines['top'].set_visible(False)\n",
    "ax3.xaxis.set_ticks_position('bottom')\n",
    "ax3.yaxis.set_ticks_position('left')\n",
    "plt.tick_params(axis='both', which='major', direction='out')\n",
    "\n",
    "plt.tight_layout()\n",
    "plt.show()\n",
    "#plt.savefig('supplemental_contigLengthHistogram.pdf', format='pdf')"
   ]
  },
  {
   "cell_type": "markdown",
   "metadata": {},
   "source": [
    "### Barcode frequency histogram for Jasmine"
   ]
  },
  {
   "cell_type": "code",
   "execution_count": 52,
   "metadata": {
    "collapsed": false
   },
   "outputs": [
    {
     "name": "stdout",
     "output_type": "stream",
     "text": [
      "/Users/jimstapleton/Dropbox/Papers/Sequencing/Github/Gelsemium\n"
     ]
    }
   ],
   "source": [
    "%cd ../Gelsemium/\n",
    "data = []\n",
    "complexityBottleneck = 0\n",
    "with open(\"histogram.txt\", \"r\") as f:\n",
    "    for line in f:\n",
    "        data.append(float(line))\n",
    "        complexityBottleneck += 1"
   ]
  },
  {
   "cell_type": "code",
   "execution_count": 53,
   "metadata": {
    "collapsed": false
   },
   "outputs": [
    {
     "name": "stdout",
     "output_type": "stream",
     "text": [
      "/Users/jimstapleton/Dropbox/Papers/Sequencing/Figures\n"
     ]
    },
    {
     "data": {
      "image/png": "[encoded data removed]",
      "text/plain": [
       "<matplotlib.figure.Figure at 0x102d5f850>"
      ]
     },
     "metadata": {},
     "output_type": "display_data"
    }
   ],
   "source": [
    "publishable = plotsettings.Set('Science')\n",
    "publishable.set_figsize(3, 2) \n",
    "\n",
    "\n",
    "width = .1\n",
    "data = sorted(data)\n",
    "ind = np.arange(len(data))\n",
    "\n",
    "fig, ax = plt.subplots()\n",
    "\n",
    "ax1 = plt.subplot(121)\n",
    "plt.bar(ind, data, log=1)\n",
    "plt.xlabel(\"Barcode\")\n",
    "plt.ylabel(\"Number of reads\")\n",
    "ax1.spines['right'].set_visible(False)\n",
    "ax1.spines['top'].set_visible(False)\n",
    "ax1.xaxis.set_ticks_position('bottom')\n",
    "ax1.yaxis.set_ticks_position('left')\n",
    "plt.tick_params(axis='both', which='major', direction='out')\n",
    "\n",
    "ax2 = plt.subplot(122)\n",
    "plt.hist(data, 1000, normed=1, histtype='step', cumulative=True)\n",
    "plt.xlabel(\"Number of reads\")\n",
    "plt.ylabel(\"Fraction of barcodes\")\n",
    "plt.axis([0,12000,0,1])\n",
    "ax.spines['right'].set_visible(False)\n",
    "ax.spines['top'].set_visible(False)\n",
    "ax.xaxis.set_ticks_position('bottom')\n",
    "ax.yaxis.set_ticks_position('left')\n",
    "plt.tick_params(axis='both', which='major', direction='out')\n",
    "\n",
    "plt.tight_layout()\n",
    "plt.show()\n",
    "#plt.savefig('Jasmine_barcodeFreqHistogram.pdf', format='pdf')"
   ]
  },
  {
   "cell_type": "markdown",
   "metadata": {},
   "source": [
    "### GC content of synthetic long reads"
   ]
  },
  {
   "cell_type": "code",
   "execution_count": 5,
   "metadata": {
    "collapsed": false
   },
   "outputs": [
    {
     "name": "stdout",
     "output_type": "stream",
     "text": [
      "/Users/jimstapleton/Dropbox/Papers/Sequencing/Github/Gelsemium\n",
      "36.49\n"
     ]
    }
   ],
   "source": [
    "%cd ../Gelsemium/\n",
    "Gelsemium_GC = []\n",
    "with open(\"gc_content.txt\", \"r\") as f:\n",
    "    for line in f:\n",
    "        gc = line.split()[2]\n",
    "        if gc != \"%GC\":\n",
    "            Gelsemium_GC.append(float(gc))\n",
    "print np.median(Gelsemium_GC)"
   ]
  },
  {
   "cell_type": "code",
   "execution_count": 6,
   "metadata": {
    "collapsed": false
   },
   "outputs": [
    {
     "name": "stdout",
     "output_type": "stream",
     "text": [
      "/Users/jimstapleton/Dropbox/Papers/Sequencing/Github/Potato\n",
      "36.6\n"
     ]
    }
   ],
   "source": [
    "%cd ../Potato/\n",
    "Potato_GC = []\n",
    "with open(\"gc_content.txt\", \"r\") as f:\n",
    "    for line in f:\n",
    "        gc = line.split()[2]\n",
    "        if gc != \"%GC\":\n",
    "            Potato_GC.append(float(gc))\n",
    "print np.median(Potato_GC)"
   ]
  },
  {
   "cell_type": "code",
   "execution_count": 7,
   "metadata": {
    "collapsed": false
   },
   "outputs": [
    {
     "name": "stdout",
     "output_type": "stream",
     "text": [
      "/Users/jimstapleton/Dropbox/Papers/Sequencing/Github/MG1655\n",
      "51.08\n"
     ]
    }
   ],
   "source": [
    "%cd ../MG1655/\n",
    "MG1655_GC = []\n",
    "with open(\"gc_content.txt\", \"r\") as f:\n",
    "    for line in f:\n",
    "        gc = line.split()[2]\n",
    "        if gc != \"%GC\":\n",
    "            MG1655_GC.append(float(gc))\n",
    "print np.median(MG1655_GC)"
   ]
  },
  {
   "cell_type": "code",
   "execution_count": 8,
   "metadata": {
    "collapsed": false
   },
   "outputs": [
    {
     "name": "stdout",
     "output_type": "stream",
     "text": [
      "/Users/jimstapleton/Dropbox/Papers/Sequencing/Github/Chicken\n",
      "39.75\n"
     ]
    }
   ],
   "source": [
    "%cd ../Chicken/\n",
    "Chicken_GC = []\n",
    "with open(\"gc_content.txt\", \"r\") as f:\n",
    "    for line in f:\n",
    "        gc = line.split()[2]\n",
    "        if gc != \"%GC\":\n",
    "            Chicken_GC.append(float(gc))\n",
    "print np.median(Chicken_GC)"
   ]
  },
  {
   "cell_type": "code",
   "execution_count": 16,
   "metadata": {
    "collapsed": false
   },
   "outputs": [
    {
     "data": {
      "image/png": "[encoded data removed]",
      "text/plain": [
       "<matplotlib.figure.Figure at 0x10f605c50>"
      ]
     },
     "metadata": {},
     "output_type": "display_data"
    }
   ],
   "source": [
    "fig, ax = plt.subplots()\n",
    "\n",
    "ax1 = plt.subplot(111)\n",
    "bins = np.linspace(0, 100)\n",
    "\n",
    "plt.hist(Potato_GC, bins=bins, histtype='stepfilled', color='blue', normed=1, alpha=0.5, label='Potato')\n",
    "plt.hist(Gelsemium_GC, bins=bins, histtype='stepfilled', color='lightgray', normed=1, alpha=0.5, label='Gelsemium')\n",
    "plt.hist(MG1655_GC, bins=bins, histtype='stepfilled', color='red', normed=1, alpha=0.5, label='MG1655')\n",
    "plt.hist(Chicken_GC, bins=bins, histtype='stepfilled', color='green', normed=1, alpha=0.5, label='Chicken')\n",
    "\n",
    "# Organism GC content:\n",
    "# Potato: Nature 475, 189–195 (14 July 2011) doi:10.1038/nature10158\n",
    "plt.axvline(34.8, color='blue', linestyle='dashed', linewidth=2)\n",
    "# MG1655: Nucleic Acids Res 34:1-9 (2006)\n",
    "plt.axvline(50.79, color='red', linestyle='dashed', linewidth=2)\n",
    "# Chicken: Genome Res. 2005. 15: 1692-1698\n",
    "plt.axvline(39, color='green', linestyle='dashed', linewidth=2)\n",
    "# Gelsemium: \n",
    "plt.axvline(33, color='gray', linestyle='dashed', linewidth=2)\n",
    "\n",
    "#plt.axis([0,11000,0,10000])\n",
    "plt.xlabel(\"GC content (%)\")\n",
    "plt.ylabel(\"Probability\")\n",
    "plt.locator_params(nbins=3)\n",
    "ax1.spines['right'].set_visible(False)\n",
    "ax1.spines['top'].set_visible(False)\n",
    "ax1.xaxis.set_ticks_position('bottom')\n",
    "ax1.yaxis.set_ticks_position('left')\n",
    "plt.tick_params(axis='both', which='major', direction='out')\n",
    "\n",
    "plt.legend()\n",
    "\n",
    "plt.tight_layout()\n",
    "plt.show()\n",
    "#plt.savefig('GC_content.pdf', format='pdf')"
   ]
  },
  {
   "cell_type": "markdown",
   "metadata": {},
   "source": [
    "###Env haplotype phasing analysis"
   ]
  },
  {
   "cell_type": "code",
   "execution_count": 18,
   "metadata": {
    "collapsed": false
   },
   "outputs": [
    {
     "name": "stdout",
     "output_type": "stream",
     "text": [
      "/Users/jimstapleton/Dropbox/Papers/Sequencing/Github/Env\n"
     ]
    }
   ],
   "source": [
    "%cd ../Env\n",
    "Env1 = []\n",
    "Env2 = []\n",
    "with open(\"seqCountSum.txt\", \"r\") as f:\n",
    "    for line in f:\n",
    "        Env1.append(float(line.split()[0]))\n",
    "        Env2.append(float(line.split()[1]))"
   ]
  },
  {
   "cell_type": "code",
   "execution_count": 19,
   "metadata": {
    "collapsed": false
   },
   "outputs": [],
   "source": [
    "import pandas as pd\n",
    "import statsmodels.formula.api as smf"
   ]
  },
  {
   "cell_type": "code",
   "execution_count": 20,
   "metadata": {
    "collapsed": false
   },
   "outputs": [
    {
     "name": "stdout",
     "output_type": "stream",
     "text": [
      "[Errno 2] No such file or directory: 'Env/'\n",
      "/Users/jimstapleton/Dropbox/Papers/Sequencing/Github/Env\n"
     ]
    },
    {
     "data": {
      "text/html": [
       "<div>\n",
       "<table border=\"1\" class=\"dataframe\">\n",
       "  <thead>\n",
       "    <tr style=\"text-align: right;\">\n",
       "      <th></th>\n",
       "      <th>Env1_1</th>\n",
       "      <th>Env1_2</th>\n",
       "      <th>Env2_1</th>\n",
       "      <th>Env2_2</th>\n",
       "    </tr>\n",
       "  </thead>\n",
       "  <tbody>\n",
       "    <tr>\n",
       "      <th>1</th>\n",
       "      <td>10</td>\n",
       "      <td>28</td>\n",
       "      <td>550</td>\n",
       "      <td>3401</td>\n",
       "    </tr>\n",
       "    <tr>\n",
       "      <th>2</th>\n",
       "      <td>0</td>\n",
       "      <td>1</td>\n",
       "      <td>2</td>\n",
       "      <td>18</td>\n",
       "    </tr>\n",
       "    <tr>\n",
       "      <th>3</th>\n",
       "      <td>0</td>\n",
       "      <td>3</td>\n",
       "      <td>31</td>\n",
       "      <td>9</td>\n",
       "    </tr>\n",
       "    <tr>\n",
       "      <th>4</th>\n",
       "      <td>2</td>\n",
       "      <td>1</td>\n",
       "      <td>36</td>\n",
       "      <td>3</td>\n",
       "    </tr>\n",
       "    <tr>\n",
       "      <th>5</th>\n",
       "      <td>24</td>\n",
       "      <td>0</td>\n",
       "      <td>0</td>\n",
       "      <td>0</td>\n",
       "    </tr>\n",
       "  </tbody>\n",
       "</table>\n",
       "</div>"
      ],
      "text/plain": [
       "   Env1_1  Env1_2  Env2_1  Env2_2\n",
       "1      10      28     550    3401\n",
       "2       0       1       2      18\n",
       "3       0       3      31       9\n",
       "4       2       1      36       3\n",
       "5      24       0       0       0"
      ]
     },
     "execution_count": 20,
     "metadata": {},
     "output_type": "execute_result"
    }
   ],
   "source": [
    "%cd Env/\n",
    "with open(\"seqCount.txt\", \"r\") as f:\n",
    "    data = pd.read_csv(f, index_col=0)\n",
    "data.head()"
   ]
  },
  {
   "cell_type": "code",
   "execution_count": 22,
   "metadata": {
    "collapsed": false
   },
   "outputs": [
    {
     "data": {
      "image/png": "[encoded data removed]",
      "text/plain": [
       "<matplotlib.figure.Figure at 0x115205610>"
      ]
     },
     "metadata": {},
     "output_type": "display_data"
    }
   ],
   "source": [
    "fig, axs = plt.subplots(4, 4, sharex=True, sharey=True)\n",
    "plt.axis([0,1000,0,1000])\n",
    "plt.locator_params(nbins=4)\n",
    "plt.tight_layout()\n",
    "\n",
    "\n",
    "data.plot(kind='scatter', x='Env1_1', y='Env1_1', ax=axs[0,0], figsize=(8, 8))#, loglog=True)\n",
    "data.plot(kind='scatter', x='Env1_2', y='Env1_1', ax=axs[0,1])#, loglog=True)\n",
    "data.plot(kind='scatter', x='Env2_1', y='Env1_1', ax=axs[0,2])#, loglog=True)\n",
    "data.plot(kind='scatter', x='Env2_2', y='Env1_1', ax=axs[0,3])#, loglog=True)\n",
    "\n",
    "data.plot(kind='scatter', x='Env1_1', y='Env1_2', ax=axs[1,0])#, loglog=True)\n",
    "data.plot(kind='scatter', x='Env1_2', y='Env1_2', ax=axs[1,1])#, loglog=True)\n",
    "data.plot(kind='scatter', x='Env2_1', y='Env1_2', ax=axs[1,2])#, loglog=True)\n",
    "data.plot(kind='scatter', x='Env2_2', y='Env1_2', ax=axs[1,3])#, loglog=True)\n",
    "\n",
    "data.plot(kind='scatter', x='Env1_1', y='Env2_1', ax=axs[2,0])#, loglog=True)\n",
    "data.plot(kind='scatter', x='Env1_2', y='Env2_1', ax=axs[2,1])#, loglog=True)\n",
    "data.plot(kind='scatter', x='Env2_1', y='Env2_1', ax=axs[2,2])#, loglog=True)\n",
    "data.plot(kind='scatter', x='Env2_2', y='Env2_1', ax=axs[2,3])#, loglog=True)\n",
    "\n",
    "data.plot(kind='scatter', x='Env1_1', y='Env2_2', ax=axs[3,0])#, loglog=True)\n",
    "data.plot(kind='scatter', x='Env1_2', y='Env2_2', ax=axs[3,1])#, loglog=True)\n",
    "data.plot(kind='scatter', x='Env2_1', y='Env2_2', ax=axs[3,2])#, loglog=True)\n",
    "data.plot(kind='scatter', x='Env2_2', y='Env2_2', ax=axs[3,3])#, loglog=True)\n",
    "\n",
    "plt.show()\n",
    "#plt.savefig('Env_haplotyping.pdf', format='pdf')"
   ]
  },
  {
   "cell_type": "code",
   "execution_count": 23,
   "metadata": {
    "collapsed": false
   },
   "outputs": [
    {
     "data": {
      "text/plain": [
       "Intercept    11.063905\n",
       "Env1_1        1.324083\n",
       "dtype: float64"
      ]
     },
     "execution_count": 23,
     "metadata": {},
     "output_type": "execute_result"
    }
   ],
   "source": [
    "lm1112 = smf.ols(formula='Env1_2 ~ Env1_1', data=data).fit()\n",
    "lm1112.params"
   ]
  },
  {
   "cell_type": "code",
   "execution_count": 24,
   "metadata": {
    "collapsed": false
   },
   "outputs": [
    {
     "data": {
      "text/html": [
       "<div>\n",
       "<table border=\"1\" class=\"dataframe\">\n",
       "  <thead>\n",
       "    <tr style=\"text-align: right;\">\n",
       "      <th></th>\n",
       "      <th>0</th>\n",
       "      <th>1</th>\n",
       "    </tr>\n",
       "  </thead>\n",
       "  <tbody>\n",
       "    <tr>\n",
       "      <th>Intercept</th>\n",
       "      <td>-9.055148</td>\n",
       "      <td>31.182958</td>\n",
       "    </tr>\n",
       "    <tr>\n",
       "      <th>Env1_1</th>\n",
       "      <td>1.304645</td>\n",
       "      <td>1.343522</td>\n",
       "    </tr>\n",
       "  </tbody>\n",
       "</table>\n",
       "</div>"
      ],
      "text/plain": [
       "                  0          1\n",
       "Intercept -9.055148  31.182958\n",
       "Env1_1     1.304645   1.343522"
      ]
     },
     "execution_count": 24,
     "metadata": {},
     "output_type": "execute_result"
    }
   ],
   "source": [
    "lm1112.conf_int()"
   ]
  },
  {
   "cell_type": "code",
   "execution_count": 44,
   "metadata": {
    "collapsed": false
   },
   "outputs": [
    {
     "data": {
      "text/plain": [
       "Intercept    0.280969\n",
       "Env1_1       0.000000\n",
       "dtype: float64"
      ]
     },
     "execution_count": 44,
     "metadata": {},
     "output_type": "execute_result"
    }
   ],
   "source": [
    "lm1112.pvalues"
   ]
  },
  {
   "cell_type": "code",
   "execution_count": 26,
   "metadata": {
    "collapsed": false
   },
   "outputs": [
    {
     "data": {
      "text/plain": [
       "0.88731525952777601"
      ]
     },
     "execution_count": 26,
     "metadata": {},
     "output_type": "execute_result"
    }
   ],
   "source": [
    "lm1112.rsquared\n"
   ]
  },
  {
   "cell_type": "code",
   "execution_count": 27,
   "metadata": {
    "collapsed": false
   },
   "outputs": [
    {
     "data": {
      "text/plain": [
       "Intercept    270.730541\n",
       "Env1_1         0.117421\n",
       "dtype: float64"
      ]
     },
     "execution_count": 27,
     "metadata": {},
     "output_type": "execute_result"
    }
   ],
   "source": [
    "lm1121 = smf.ols(formula='Env2_1 ~ Env1_1', data=data).fit()\n",
    "lm1121.params"
   ]
  },
  {
   "cell_type": "code",
   "execution_count": 28,
   "metadata": {
    "collapsed": false
   },
   "outputs": [
    {
     "data": {
      "text/html": [
       "<div>\n",
       "<table border=\"1\" class=\"dataframe\">\n",
       "  <thead>\n",
       "    <tr style=\"text-align: right;\">\n",
       "      <th></th>\n",
       "      <th>0</th>\n",
       "      <th>1</th>\n",
       "    </tr>\n",
       "  </thead>\n",
       "  <tbody>\n",
       "    <tr>\n",
       "      <th>Intercept</th>\n",
       "      <td>204.128500</td>\n",
       "      <td>337.332581</td>\n",
       "    </tr>\n",
       "    <tr>\n",
       "      <th>Env1_1</th>\n",
       "      <td>0.053073</td>\n",
       "      <td>0.181770</td>\n",
       "    </tr>\n",
       "  </tbody>\n",
       "</table>\n",
       "</div>"
      ],
      "text/plain": [
       "                    0           1\n",
       "Intercept  204.128500  337.332581\n",
       "Env1_1       0.053073    0.181770"
      ]
     },
     "execution_count": 28,
     "metadata": {},
     "output_type": "execute_result"
    }
   ],
   "source": [
    "lm1121.conf_int()"
   ]
  },
  {
   "cell_type": "code",
   "execution_count": 29,
   "metadata": {
    "collapsed": false
   },
   "outputs": [
    {
     "data": {
      "text/plain": [
       "Intercept    2.464740e-15\n",
       "Env1_1       3.529762e-04\n",
       "dtype: float64"
      ]
     },
     "execution_count": 29,
     "metadata": {},
     "output_type": "execute_result"
    }
   ],
   "source": [
    "lm1121.pvalues\n"
   ]
  },
  {
   "cell_type": "code",
   "execution_count": 30,
   "metadata": {
    "collapsed": false
   },
   "outputs": [
    {
     "data": {
      "text/plain": [
       "0.0056191134023930722"
      ]
     },
     "execution_count": 30,
     "metadata": {},
     "output_type": "execute_result"
    }
   ],
   "source": [
    "lm1121.rsquared\n"
   ]
  },
  {
   "cell_type": "code",
   "execution_count": 31,
   "metadata": {
    "collapsed": false
   },
   "outputs": [
    {
     "data": {
      "text/plain": [
       "Intercept    482.475778\n",
       "Env1_1         0.213228\n",
       "dtype: float64"
      ]
     },
     "execution_count": 31,
     "metadata": {},
     "output_type": "execute_result"
    }
   ],
   "source": [
    "lm1122 = smf.ols(formula='Env2_2 ~ Env1_1', data=data).fit()\n",
    "lm1122.params"
   ]
  },
  {
   "cell_type": "code",
   "execution_count": 32,
   "metadata": {
    "collapsed": false
   },
   "outputs": [
    {
     "data": {
      "text/html": [
       "<div>\n",
       "<table border=\"1\" class=\"dataframe\">\n",
       "  <thead>\n",
       "    <tr style=\"text-align: right;\">\n",
       "      <th></th>\n",
       "      <th>0</th>\n",
       "      <th>1</th>\n",
       "    </tr>\n",
       "  </thead>\n",
       "  <tbody>\n",
       "    <tr>\n",
       "      <th>Intercept</th>\n",
       "      <td>334.570258</td>\n",
       "      <td>630.381297</td>\n",
       "    </tr>\n",
       "    <tr>\n",
       "      <th>Env1_1</th>\n",
       "      <td>0.070327</td>\n",
       "      <td>0.356129</td>\n",
       "    </tr>\n",
       "  </tbody>\n",
       "</table>\n",
       "</div>"
      ],
      "text/plain": [
       "                    0           1\n",
       "Intercept  334.570258  630.381297\n",
       "Env1_1       0.070327    0.356129"
      ]
     },
     "execution_count": 32,
     "metadata": {},
     "output_type": "execute_result"
    }
   ],
   "source": [
    "lm1122.conf_int()"
   ]
  },
  {
   "cell_type": "code",
   "execution_count": 33,
   "metadata": {
    "collapsed": false
   },
   "outputs": [
    {
     "data": {
      "text/plain": [
       "Intercept    1.919803e-10\n",
       "Env1_1       3.466594e-03\n",
       "dtype: float64"
      ]
     },
     "execution_count": 33,
     "metadata": {},
     "output_type": "execute_result"
    }
   ],
   "source": [
    "lm1122.pvalues\n"
   ]
  },
  {
   "cell_type": "code",
   "execution_count": 34,
   "metadata": {
    "collapsed": false
   },
   "outputs": [
    {
     "data": {
      "text/plain": [
       "0.0037642581805725772"
      ]
     },
     "execution_count": 34,
     "metadata": {},
     "output_type": "execute_result"
    }
   ],
   "source": [
    "lm1122.rsquared\n"
   ]
  },
  {
   "cell_type": "code",
   "execution_count": 35,
   "metadata": {
    "collapsed": false
   },
   "outputs": [
    {
     "data": {
      "text/plain": [
       "Intercept    266.830789\n",
       "Env1_2         0.114396\n",
       "dtype: float64"
      ]
     },
     "execution_count": 35,
     "metadata": {},
     "output_type": "execute_result"
    }
   ],
   "source": [
    "lm1221 = smf.ols(formula='Env2_1 ~ Env1_2', data=data).fit()\n",
    "lm1221.params"
   ]
  },
  {
   "cell_type": "code",
   "execution_count": 36,
   "metadata": {
    "collapsed": false
   },
   "outputs": [
    {
     "data": {
      "text/plain": [
       "Intercept    5.278539e-15\n",
       "Env1_2       9.632621e-07\n",
       "dtype: float64"
      ]
     },
     "execution_count": 36,
     "metadata": {},
     "output_type": "execute_result"
    }
   ],
   "source": [
    "lm1221.pvalues"
   ]
  },
  {
   "cell_type": "code",
   "execution_count": 37,
   "metadata": {
    "collapsed": false
   },
   "outputs": [
    {
     "data": {
      "text/plain": [
       "0.010537852979727202"
      ]
     },
     "execution_count": 37,
     "metadata": {},
     "output_type": "execute_result"
    }
   ],
   "source": [
    "lm1221.rsquared"
   ]
  },
  {
   "cell_type": "code",
   "execution_count": 38,
   "metadata": {
    "collapsed": false
   },
   "outputs": [
    {
     "data": {
      "text/plain": [
       "Intercept    470.965800\n",
       "Env1_2         0.246753\n",
       "dtype: float64"
      ]
     },
     "execution_count": 38,
     "metadata": {},
     "output_type": "execute_result"
    }
   ],
   "source": [
    "lm1222 = smf.ols(formula='Env2_2 ~ Env1_2', data=data).fit()\n",
    "lm1222.params"
   ]
  },
  {
   "cell_type": "code",
   "execution_count": 41,
   "metadata": {
    "collapsed": false
   },
   "outputs": [
    {
     "data": {
      "text/plain": [
       "Intercept    4.525418e-10\n",
       "Env1_2       1.915602e-06\n",
       "dtype: float64"
      ]
     },
     "execution_count": 41,
     "metadata": {},
     "output_type": "execute_result"
    }
   ],
   "source": [
    "lm1222.pvalues"
   ]
  },
  {
   "cell_type": "code",
   "execution_count": 40,
   "metadata": {
    "collapsed": false
   },
   "outputs": [
    {
     "data": {
      "text/plain": [
       "0.009960164125134785"
      ]
     },
     "execution_count": 40,
     "metadata": {},
     "output_type": "execute_result"
    }
   ],
   "source": [
    "lm1222.rsquared"
   ]
  },
  {
   "cell_type": "code",
   "execution_count": 42,
   "metadata": {
    "collapsed": false
   },
   "outputs": [
    {
     "data": {
      "text/plain": [
       "Intercept    152.239508\n",
       "Env2_1         1.239149\n",
       "dtype: float64"
      ]
     },
     "execution_count": 42,
     "metadata": {},
     "output_type": "execute_result"
    }
   ],
   "source": [
    "lm2122 = smf.ols(formula='Env2_2 ~ Env2_1', data=data).fit()\n",
    "lm2122.params"
   ]
  },
  {
   "cell_type": "code",
   "execution_count": 43,
   "metadata": {
    "collapsed": false
   },
   "outputs": [
    {
     "data": {
      "text/plain": [
       "Intercept     1.647888e-02\n",
       "Env2_1       3.247408e-186\n",
       "dtype: float64"
      ]
     },
     "execution_count": 43,
     "metadata": {},
     "output_type": "execute_result"
    }
   ],
   "source": [
    "lm2122.pvalues"
   ]
  },
  {
   "cell_type": "code",
   "execution_count": 45,
   "metadata": {
    "collapsed": false
   },
   "outputs": [
    {
     "data": {
      "text/plain": [
       "0.31193424284776561"
      ]
     },
     "execution_count": 45,
     "metadata": {},
     "output_type": "execute_result"
    }
   ],
   "source": [
    "lm2122.rsquared"
   ]
  },
  {
   "cell_type": "code",
   "execution_count": null,
   "metadata": {
    "collapsed": true
   },
   "outputs": [],
   "source": []
  }
 ],
 "metadata": {
  "kernelspec": {
   "display_name": "Python 2",
   "language": "python",
   "name": "python2"
  },
  "language_info": {
   "codemirror_mode": {
    "name": "ipython",
    "version": 2
   },
   "file_extension": ".py",
   "mimetype": "text/x-python",
   "name": "python",
   "nbconvert_exporter": "python",
   "pygments_lexer": "ipython2",
   "version": "2.7.9"
  }
 },
 "nbformat": 4,
 "nbformat_minor": 0
}
